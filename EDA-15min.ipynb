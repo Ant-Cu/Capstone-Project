{
 "cells": [
  {
   "cell_type": "code",
   "execution_count": 9,
   "id": "favorite-application",
   "metadata": {
    "ExecuteTime": {
     "end_time": "2021-02-22T10:46:59.039002Z",
     "start_time": "2021-02-22T10:46:57.347292Z"
    }
   },
   "outputs": [],
   "source": [
    "import cbpro\n",
    "import pandas as pd\n",
    "import numpy as np\n",
    "import matplotlib.pyplot as plt\n",
    "import seaborn as sns\n",
    "import requests\n",
    "import arrow\n",
    "from requests.auth import AuthBase\n",
    "import plotly.graph_objs as go\n",
    "\n",
    "\n",
    "pd.options.display.max_rows = 4000\n",
    "pd.options.display.max_columns = 4000\n"
   ]
  },
  {
   "cell_type": "code",
   "execution_count": 10,
   "id": "sudden-mouth",
   "metadata": {
    "ExecuteTime": {
     "end_time": "2021-02-22T10:46:59.993160Z",
     "start_time": "2021-02-22T10:46:59.039970Z"
    }
   },
   "outputs": [
    {
     "data": {
      "text/html": [
       "        <script type=\"text/javascript\">\n",
       "        window.PlotlyConfig = {MathJaxConfig: 'local'};\n",
       "        if (window.MathJax) {MathJax.Hub.Config({SVG: {font: \"STIX-Web\"}});}\n",
       "        if (typeof require !== 'undefined') {\n",
       "        require.undef(\"plotly\");\n",
       "        requirejs.config({\n",
       "            paths: {\n",
       "                'plotly': ['https://cdn.plot.ly/plotly-latest.min']\n",
       "            }\n",
       "        });\n",
       "        require(['plotly'], function(Plotly) {\n",
       "            window._Plotly = Plotly;\n",
       "        });\n",
       "        }\n",
       "        </script>\n",
       "        "
      ]
     },
     "metadata": {},
     "output_type": "display_data"
    }
   ],
   "source": [
    "import plotly.offline as py\n",
    "import plotly.graph_objs as go\n",
    "py.init_notebook_mode(connected=True)\n",
    "from plotly import tools\n",
    "import plotly.figure_factory as ff"
   ]
  },
  {
   "cell_type": "markdown",
   "id": "renewable-melissa",
   "metadata": {},
   "source": [
    "# Read CSV File"
   ]
  },
  {
   "cell_type": "code",
   "execution_count": 11,
   "id": "single-patio",
   "metadata": {
    "ExecuteTime": {
     "end_time": "2021-02-22T10:46:59.998149Z",
     "start_time": "2021-02-22T10:46:59.994158Z"
    }
   },
   "outputs": [],
   "source": [
    "#new_df.to_csv('ETHUSD5M.csv',index=False)"
   ]
  },
  {
   "cell_type": "code",
   "execution_count": 155,
   "id": "imposed-quantum",
   "metadata": {
    "ExecuteTime": {
     "end_time": "2021-02-23T00:25:15.487833Z",
     "start_time": "2021-02-23T00:25:15.300192Z"
    }
   },
   "outputs": [
    {
     "data": {
      "text/plain": [
       "(163913, 8)"
      ]
     },
     "execution_count": 155,
     "metadata": {},
     "output_type": "execute_result"
    }
   ],
   "source": [
    "test = pd.read_csv('ETHUSD15M.csv')\n",
    "\n",
    "test.shape"
   ]
  },
  {
   "cell_type": "code",
   "execution_count": 156,
   "id": "intelligent-mediterranean",
   "metadata": {
    "ExecuteTime": {
     "end_time": "2021-02-23T00:25:18.374925Z",
     "start_time": "2021-02-23T00:25:18.361938Z"
    }
   },
   "outputs": [
    {
     "data": {
      "text/html": [
       "<div>\n",
       "<style scoped>\n",
       "    .dataframe tbody tr th:only-of-type {\n",
       "        vertical-align: middle;\n",
       "    }\n",
       "\n",
       "    .dataframe tbody tr th {\n",
       "        vertical-align: top;\n",
       "    }\n",
       "\n",
       "    .dataframe thead th {\n",
       "        text-align: right;\n",
       "    }\n",
       "</style>\n",
       "<table border=\"1\" class=\"dataframe\">\n",
       "  <thead>\n",
       "    <tr style=\"text-align: right;\">\n",
       "      <th></th>\n",
       "      <th>Unnamed: 0</th>\n",
       "      <th>time</th>\n",
       "      <th>low</th>\n",
       "      <th>high</th>\n",
       "      <th>open</th>\n",
       "      <th>close</th>\n",
       "      <th>volume</th>\n",
       "      <th>Date</th>\n",
       "    </tr>\n",
       "  </thead>\n",
       "  <tbody>\n",
       "    <tr>\n",
       "      <th>0</th>\n",
       "      <td>0</td>\n",
       "      <td>1611532800</td>\n",
       "      <td>1384.15</td>\n",
       "      <td>1417.07</td>\n",
       "      <td>1394.04</td>\n",
       "      <td>1415.05</td>\n",
       "      <td>14531.930071</td>\n",
       "      <td>2021-01-25 00:00</td>\n",
       "    </tr>\n",
       "    <tr>\n",
       "      <th>1</th>\n",
       "      <td>1</td>\n",
       "      <td>1611531900</td>\n",
       "      <td>1383.69</td>\n",
       "      <td>1401.92</td>\n",
       "      <td>1385.65</td>\n",
       "      <td>1394.00</td>\n",
       "      <td>15134.332706</td>\n",
       "      <td>2021-01-24 23:45</td>\n",
       "    </tr>\n",
       "    <tr>\n",
       "      <th>2</th>\n",
       "      <td>2</td>\n",
       "      <td>1611531000</td>\n",
       "      <td>1378.61</td>\n",
       "      <td>1386.80</td>\n",
       "      <td>1382.93</td>\n",
       "      <td>1385.33</td>\n",
       "      <td>5749.605711</td>\n",
       "      <td>2021-01-24 23:30</td>\n",
       "    </tr>\n",
       "    <tr>\n",
       "      <th>3</th>\n",
       "      <td>3</td>\n",
       "      <td>1611530100</td>\n",
       "      <td>1376.57</td>\n",
       "      <td>1389.07</td>\n",
       "      <td>1376.57</td>\n",
       "      <td>1382.86</td>\n",
       "      <td>8515.797723</td>\n",
       "      <td>2021-01-24 23:15</td>\n",
       "    </tr>\n",
       "    <tr>\n",
       "      <th>4</th>\n",
       "      <td>4</td>\n",
       "      <td>1611529200</td>\n",
       "      <td>1368.62</td>\n",
       "      <td>1381.93</td>\n",
       "      <td>1368.62</td>\n",
       "      <td>1376.47</td>\n",
       "      <td>7457.533536</td>\n",
       "      <td>2021-01-24 23:00</td>\n",
       "    </tr>\n",
       "  </tbody>\n",
       "</table>\n",
       "</div>"
      ],
      "text/plain": [
       "   Unnamed: 0        time      low     high     open    close        volume  \\\n",
       "0           0  1611532800  1384.15  1417.07  1394.04  1415.05  14531.930071   \n",
       "1           1  1611531900  1383.69  1401.92  1385.65  1394.00  15134.332706   \n",
       "2           2  1611531000  1378.61  1386.80  1382.93  1385.33   5749.605711   \n",
       "3           3  1611530100  1376.57  1389.07  1376.57  1382.86   8515.797723   \n",
       "4           4  1611529200  1368.62  1381.93  1368.62  1376.47   7457.533536   \n",
       "\n",
       "               Date  \n",
       "0  2021-01-25 00:00  \n",
       "1  2021-01-24 23:45  \n",
       "2  2021-01-24 23:30  \n",
       "3  2021-01-24 23:15  \n",
       "4  2021-01-24 23:00  "
      ]
     },
     "execution_count": 156,
     "metadata": {},
     "output_type": "execute_result"
    }
   ],
   "source": [
    "test.head()"
   ]
  },
  {
   "cell_type": "code",
   "execution_count": 157,
   "id": "global-piano",
   "metadata": {
    "ExecuteTime": {
     "end_time": "2021-02-23T00:25:19.383530Z",
     "start_time": "2021-02-23T00:25:19.251014Z"
    }
   },
   "outputs": [],
   "source": [
    "test.drop('Unnamed: 0',axis=1,inplace=True)\n",
    "test = test.sort_values('Date')"
   ]
  },
  {
   "cell_type": "code",
   "execution_count": 158,
   "id": "moved-pepper",
   "metadata": {
    "ExecuteTime": {
     "end_time": "2021-02-23T00:25:20.145824Z",
     "start_time": "2021-02-23T00:25:20.134852Z"
    },
    "scrolled": true
   },
   "outputs": [
    {
     "data": {
      "text/html": [
       "<div>\n",
       "<style scoped>\n",
       "    .dataframe tbody tr th:only-of-type {\n",
       "        vertical-align: middle;\n",
       "    }\n",
       "\n",
       "    .dataframe tbody tr th {\n",
       "        vertical-align: top;\n",
       "    }\n",
       "\n",
       "    .dataframe thead th {\n",
       "        text-align: right;\n",
       "    }\n",
       "</style>\n",
       "<table border=\"1\" class=\"dataframe\">\n",
       "  <thead>\n",
       "    <tr style=\"text-align: right;\">\n",
       "      <th></th>\n",
       "      <th>time</th>\n",
       "      <th>low</th>\n",
       "      <th>high</th>\n",
       "      <th>open</th>\n",
       "      <th>close</th>\n",
       "      <th>volume</th>\n",
       "      <th>Date</th>\n",
       "    </tr>\n",
       "  </thead>\n",
       "  <tbody>\n",
       "    <tr>\n",
       "      <th>163912</th>\n",
       "      <td>1464012000</td>\n",
       "      <td>13.85</td>\n",
       "      <td>13.86</td>\n",
       "      <td>13.86</td>\n",
       "      <td>13.85</td>\n",
       "      <td>180.0</td>\n",
       "      <td>2016-05-23 15:00</td>\n",
       "    </tr>\n",
       "    <tr>\n",
       "      <th>163911</th>\n",
       "      <td>1464012900</td>\n",
       "      <td>13.85</td>\n",
       "      <td>13.86</td>\n",
       "      <td>13.86</td>\n",
       "      <td>13.85</td>\n",
       "      <td>180.0</td>\n",
       "      <td>2016-05-23 15:15</td>\n",
       "    </tr>\n",
       "    <tr>\n",
       "      <th>163910</th>\n",
       "      <td>1464013800</td>\n",
       "      <td>13.85</td>\n",
       "      <td>13.86</td>\n",
       "      <td>13.86</td>\n",
       "      <td>13.85</td>\n",
       "      <td>180.0</td>\n",
       "      <td>2016-05-23 15:30</td>\n",
       "    </tr>\n",
       "    <tr>\n",
       "      <th>163909</th>\n",
       "      <td>1464014700</td>\n",
       "      <td>13.85</td>\n",
       "      <td>13.86</td>\n",
       "      <td>13.86</td>\n",
       "      <td>13.85</td>\n",
       "      <td>180.0</td>\n",
       "      <td>2016-05-23 15:45</td>\n",
       "    </tr>\n",
       "    <tr>\n",
       "      <th>163908</th>\n",
       "      <td>1464015600</td>\n",
       "      <td>13.85</td>\n",
       "      <td>13.86</td>\n",
       "      <td>13.86</td>\n",
       "      <td>13.85</td>\n",
       "      <td>180.0</td>\n",
       "      <td>2016-05-23 16:00</td>\n",
       "    </tr>\n",
       "  </tbody>\n",
       "</table>\n",
       "</div>"
      ],
      "text/plain": [
       "              time    low   high   open  close  volume              Date\n",
       "163912  1464012000  13.85  13.86  13.86  13.85   180.0  2016-05-23 15:00\n",
       "163911  1464012900  13.85  13.86  13.86  13.85   180.0  2016-05-23 15:15\n",
       "163910  1464013800  13.85  13.86  13.86  13.85   180.0  2016-05-23 15:30\n",
       "163909  1464014700  13.85  13.86  13.86  13.85   180.0  2016-05-23 15:45\n",
       "163908  1464015600  13.85  13.86  13.86  13.85   180.0  2016-05-23 16:00"
      ]
     },
     "execution_count": 158,
     "metadata": {},
     "output_type": "execute_result"
    }
   ],
   "source": [
    "test.head()"
   ]
  },
  {
   "cell_type": "code",
   "execution_count": 159,
   "id": "answering-separate",
   "metadata": {
    "ExecuteTime": {
     "end_time": "2021-02-23T00:25:20.387010Z",
     "start_time": "2021-02-23T00:25:20.367873Z"
    }
   },
   "outputs": [],
   "source": [
    "test = test[['Date','open','high','low','close','volume']].copy()\n",
    "test.columns = ['Date','Open','High','Low','Close','Volume']"
   ]
  },
  {
   "cell_type": "code",
   "execution_count": 160,
   "id": "educational-european",
   "metadata": {
    "ExecuteTime": {
     "end_time": "2021-02-23T00:25:23.792757Z",
     "start_time": "2021-02-23T00:25:23.777795Z"
    }
   },
   "outputs": [],
   "source": [
    "test['avg'] = (test[['Low','High','Close']].sum(axis=1))/3"
   ]
  },
  {
   "cell_type": "code",
   "execution_count": 161,
   "id": "fitted-devices",
   "metadata": {
    "ExecuteTime": {
     "end_time": "2021-02-23T00:25:24.334699Z",
     "start_time": "2021-02-23T00:25:24.322697Z"
    }
   },
   "outputs": [
    {
     "data": {
      "text/html": [
       "<div>\n",
       "<style scoped>\n",
       "    .dataframe tbody tr th:only-of-type {\n",
       "        vertical-align: middle;\n",
       "    }\n",
       "\n",
       "    .dataframe tbody tr th {\n",
       "        vertical-align: top;\n",
       "    }\n",
       "\n",
       "    .dataframe thead th {\n",
       "        text-align: right;\n",
       "    }\n",
       "</style>\n",
       "<table border=\"1\" class=\"dataframe\">\n",
       "  <thead>\n",
       "    <tr style=\"text-align: right;\">\n",
       "      <th></th>\n",
       "      <th>Date</th>\n",
       "      <th>Open</th>\n",
       "      <th>High</th>\n",
       "      <th>Low</th>\n",
       "      <th>Close</th>\n",
       "      <th>Volume</th>\n",
       "      <th>avg</th>\n",
       "    </tr>\n",
       "  </thead>\n",
       "  <tbody>\n",
       "    <tr>\n",
       "      <th>163912</th>\n",
       "      <td>2016-05-23 15:00</td>\n",
       "      <td>13.86</td>\n",
       "      <td>13.86</td>\n",
       "      <td>13.85</td>\n",
       "      <td>13.85</td>\n",
       "      <td>180.0</td>\n",
       "      <td>13.853333</td>\n",
       "    </tr>\n",
       "    <tr>\n",
       "      <th>163911</th>\n",
       "      <td>2016-05-23 15:15</td>\n",
       "      <td>13.86</td>\n",
       "      <td>13.86</td>\n",
       "      <td>13.85</td>\n",
       "      <td>13.85</td>\n",
       "      <td>180.0</td>\n",
       "      <td>13.853333</td>\n",
       "    </tr>\n",
       "    <tr>\n",
       "      <th>163910</th>\n",
       "      <td>2016-05-23 15:30</td>\n",
       "      <td>13.86</td>\n",
       "      <td>13.86</td>\n",
       "      <td>13.85</td>\n",
       "      <td>13.85</td>\n",
       "      <td>180.0</td>\n",
       "      <td>13.853333</td>\n",
       "    </tr>\n",
       "    <tr>\n",
       "      <th>163909</th>\n",
       "      <td>2016-05-23 15:45</td>\n",
       "      <td>13.86</td>\n",
       "      <td>13.86</td>\n",
       "      <td>13.85</td>\n",
       "      <td>13.85</td>\n",
       "      <td>180.0</td>\n",
       "      <td>13.853333</td>\n",
       "    </tr>\n",
       "    <tr>\n",
       "      <th>163908</th>\n",
       "      <td>2016-05-23 16:00</td>\n",
       "      <td>13.86</td>\n",
       "      <td>13.86</td>\n",
       "      <td>13.85</td>\n",
       "      <td>13.85</td>\n",
       "      <td>180.0</td>\n",
       "      <td>13.853333</td>\n",
       "    </tr>\n",
       "  </tbody>\n",
       "</table>\n",
       "</div>"
      ],
      "text/plain": [
       "                    Date   Open   High    Low  Close  Volume        avg\n",
       "163912  2016-05-23 15:00  13.86  13.86  13.85  13.85   180.0  13.853333\n",
       "163911  2016-05-23 15:15  13.86  13.86  13.85  13.85   180.0  13.853333\n",
       "163910  2016-05-23 15:30  13.86  13.86  13.85  13.85   180.0  13.853333\n",
       "163909  2016-05-23 15:45  13.86  13.86  13.85  13.85   180.0  13.853333\n",
       "163908  2016-05-23 16:00  13.86  13.86  13.85  13.85   180.0  13.853333"
      ]
     },
     "execution_count": 161,
     "metadata": {},
     "output_type": "execute_result"
    }
   ],
   "source": [
    "test.head()"
   ]
  },
  {
   "cell_type": "code",
   "execution_count": 162,
   "id": "maritime-anger",
   "metadata": {
    "ExecuteTime": {
     "end_time": "2021-02-23T00:25:25.462844Z",
     "start_time": "2021-02-23T00:25:25.376826Z"
    }
   },
   "outputs": [],
   "source": [
    "test['Date'] = pd.to_datetime(test['Date'])"
   ]
  },
  {
   "cell_type": "code",
   "execution_count": 163,
   "id": "lined-protest",
   "metadata": {
    "ExecuteTime": {
     "end_time": "2021-02-23T00:25:26.093672Z",
     "start_time": "2021-02-23T00:25:26.072725Z"
    },
    "scrolled": true
   },
   "outputs": [
    {
     "data": {
      "text/html": [
       "<div>\n",
       "<style scoped>\n",
       "    .dataframe tbody tr th:only-of-type {\n",
       "        vertical-align: middle;\n",
       "    }\n",
       "\n",
       "    .dataframe tbody tr th {\n",
       "        vertical-align: top;\n",
       "    }\n",
       "\n",
       "    .dataframe thead th {\n",
       "        text-align: right;\n",
       "    }\n",
       "</style>\n",
       "<table border=\"1\" class=\"dataframe\">\n",
       "  <thead>\n",
       "    <tr style=\"text-align: right;\">\n",
       "      <th></th>\n",
       "      <th>Open</th>\n",
       "      <th>High</th>\n",
       "      <th>Low</th>\n",
       "      <th>Close</th>\n",
       "      <th>Volume</th>\n",
       "      <th>avg</th>\n",
       "    </tr>\n",
       "    <tr>\n",
       "      <th>Date</th>\n",
       "      <th></th>\n",
       "      <th></th>\n",
       "      <th></th>\n",
       "      <th></th>\n",
       "      <th></th>\n",
       "      <th></th>\n",
       "    </tr>\n",
       "  </thead>\n",
       "  <tbody>\n",
       "    <tr>\n",
       "      <th>2016-05-23 15:00:00</th>\n",
       "      <td>13.86</td>\n",
       "      <td>13.86</td>\n",
       "      <td>13.85</td>\n",
       "      <td>13.85</td>\n",
       "      <td>180.0</td>\n",
       "      <td>13.853333</td>\n",
       "    </tr>\n",
       "    <tr>\n",
       "      <th>2016-05-23 15:15:00</th>\n",
       "      <td>13.86</td>\n",
       "      <td>13.86</td>\n",
       "      <td>13.85</td>\n",
       "      <td>13.85</td>\n",
       "      <td>180.0</td>\n",
       "      <td>13.853333</td>\n",
       "    </tr>\n",
       "    <tr>\n",
       "      <th>2016-05-23 15:30:00</th>\n",
       "      <td>13.86</td>\n",
       "      <td>13.86</td>\n",
       "      <td>13.85</td>\n",
       "      <td>13.85</td>\n",
       "      <td>180.0</td>\n",
       "      <td>13.853333</td>\n",
       "    </tr>\n",
       "    <tr>\n",
       "      <th>2016-05-23 15:45:00</th>\n",
       "      <td>13.86</td>\n",
       "      <td>13.86</td>\n",
       "      <td>13.85</td>\n",
       "      <td>13.85</td>\n",
       "      <td>180.0</td>\n",
       "      <td>13.853333</td>\n",
       "    </tr>\n",
       "    <tr>\n",
       "      <th>2016-05-23 16:00:00</th>\n",
       "      <td>13.86</td>\n",
       "      <td>13.86</td>\n",
       "      <td>13.85</td>\n",
       "      <td>13.85</td>\n",
       "      <td>180.0</td>\n",
       "      <td>13.853333</td>\n",
       "    </tr>\n",
       "  </tbody>\n",
       "</table>\n",
       "</div>"
      ],
      "text/plain": [
       "                      Open   High    Low  Close  Volume        avg\n",
       "Date                                                              \n",
       "2016-05-23 15:00:00  13.86  13.86  13.85  13.85   180.0  13.853333\n",
       "2016-05-23 15:15:00  13.86  13.86  13.85  13.85   180.0  13.853333\n",
       "2016-05-23 15:30:00  13.86  13.86  13.85  13.85   180.0  13.853333\n",
       "2016-05-23 15:45:00  13.86  13.86  13.85  13.85   180.0  13.853333\n",
       "2016-05-23 16:00:00  13.86  13.86  13.85  13.85   180.0  13.853333"
      ]
     },
     "execution_count": 163,
     "metadata": {},
     "output_type": "execute_result"
    }
   ],
   "source": [
    "test = test.set_index('Date',drop=True)\n",
    "test.head(5)"
   ]
  },
  {
   "cell_type": "code",
   "execution_count": 164,
   "id": "polish-cheat",
   "metadata": {
    "ExecuteTime": {
     "end_time": "2021-02-23T00:25:26.615789Z",
     "start_time": "2021-02-23T00:25:26.282827Z"
    },
    "scrolled": false
   },
   "outputs": [],
   "source": [
    "#Create my technical analysis indicators which are going to be my features\n",
    "\n",
    "x = ['Close','Volume','avg']\n",
    "t1 = 8\n",
    "t2 = 16\n",
    "for i in test[x]:\n",
    "\n",
    "    c1 = 'rtn_' + i\n",
    "    c2 = 'abs_rtn_' + i\n",
    "    test[c1] = np.log(test[i]/test[i].shift(1))\n",
    "    test[c2] = abs(np.log(test[i]/test[i].shift(1)))\n",
    "    c3 = i + '_std' + str(t1)\n",
    "    c4 = i + '_std' + str(t2) \n",
    "    test[c3] = test[i].rolling(window=t1).std()\n",
    "    test[c4] = test[i].rolling(window=t2).std()\n",
    "    \n",
    "    c5 = c2 + '_' + str(t1) + 'MA'\n",
    "    c6 = c2 + '_' + str(t2) + 'MA'\n",
    "    test[c5] = test[c2].rolling(window=t1).mean()\n",
    "    test[c6] = test[c2].rolling(window=t2).mean()\n",
    "    c7 = i + '_' + str(t1) + 'EMA'\n",
    "    c8 = i + '_' + str(t2) + 'EMA'\n",
    "    test[c7] = test[i].ewm(span=t1,adjust=True).mean()\n",
    "    test[c8] = test[i].ewm(span=t2,adjust=True).mean()\n",
    "    c9 = i + '_' + str(t1) + 'MA'\n",
    "    c10 = i + '_' + str(t2) + 'MA'\n",
    "    test[c9] = test[i].rolling(window=t1).mean()\n",
    "    test[c10] = test[i].rolling(window=t2).mean()\n",
    "    \n",
    "   \n",
    "    c11 = 'Diff_' + c8 + c7\n",
    "    test[c11] = test[c8] - test[c7]\n",
    "        #Bollinger on Close price\n",
    "    if i == 'Close' or 'avg':\n",
    "        \n",
    "        bol1 = ['BolUp'+c9,'BolDn'+c9]\n",
    "        bol2 = ['BolUp'+c10,'BolDn'+c10]\n",
    "\n",
    "        test[bol1[0]] = test[i].rolling(window=t1).mean() + (test[c2]*2.5) \n",
    "        test[bol1[1]] = test[i].rolling(window=t1).mean() - (test[c2]*2.5)\n",
    "        test[bol2[0]] = test[i].rolling(window=t2).mean() + (test[c3]*2.5)\n",
    "        test[bol2[1]] = test[i].rolling(window=t2).mean() - (test[c3]*2.5) \n"
   ]
  },
  {
   "cell_type": "code",
   "execution_count": null,
   "id": "powered-response",
   "metadata": {},
   "outputs": [],
   "source": []
  },
  {
   "cell_type": "code",
   "execution_count": 165,
   "id": "exciting-making",
   "metadata": {
    "ExecuteTime": {
     "end_time": "2021-02-23T00:25:29.100249Z",
     "start_time": "2021-02-23T00:25:28.963056Z"
    }
   },
   "outputs": [],
   "source": [
    "#Create the RSI, Relative Strength Indicator \n",
    "\n",
    "rsi_period = 14\n",
    "rsi = pd.DataFrame(test['Close'],index=test.index)\n",
    "rsi['rtn'] = rsi['Close'].diff(periods=1)\n",
    "rsi['po_rtn'] = [x if x > 0 else 0 for x in rsi['rtn']]\n",
    "rsi['neg_rtn'] = [x if x < 0 else 0 for x in rsi['rtn']]\n",
    "#rsi = rsi.iloc[1:,:]\n",
    "rsi['RS'] = rsi['po_rtn'].ewm(span=rsi_period).mean()/rsi['neg_rtn'].abs().ewm(span=rsi_period).mean()\n",
    "rsi['rsi'] = 100-(100/(1+rsi['RS']))"
   ]
  },
  {
   "cell_type": "code",
   "execution_count": 166,
   "id": "magnetic-guinea",
   "metadata": {
    "ExecuteTime": {
     "end_time": "2021-02-23T00:25:29.536987Z",
     "start_time": "2021-02-23T00:25:29.532023Z"
    }
   },
   "outputs": [],
   "source": [
    "test['RSI_Close'] = rsi['rsi']"
   ]
  },
  {
   "cell_type": "code",
   "execution_count": 167,
   "id": "express-simpson",
   "metadata": {
    "ExecuteTime": {
     "end_time": "2021-02-23T00:25:29.733019Z",
     "start_time": "2021-02-23T00:25:29.729029Z"
    },
    "scrolled": true
   },
   "outputs": [
    {
     "data": {
      "text/plain": [
       "Index(['Open', 'High', 'Low', 'Close', 'Volume', 'avg', 'rtn_Close',\n",
       "       'abs_rtn_Close', 'Close_std8', 'Close_std16', 'abs_rtn_Close_8MA',\n",
       "       'abs_rtn_Close_16MA', 'Close_8EMA', 'Close_16EMA', 'Close_8MA',\n",
       "       'Close_16MA', 'Diff_Close_16EMAClose_8EMA', 'BolUpClose_8MA',\n",
       "       'BolDnClose_8MA', 'BolUpClose_16MA', 'BolDnClose_16MA', 'rtn_Volume',\n",
       "       'abs_rtn_Volume', 'Volume_std8', 'Volume_std16', 'abs_rtn_Volume_8MA',\n",
       "       'abs_rtn_Volume_16MA', 'Volume_8EMA', 'Volume_16EMA', 'Volume_8MA',\n",
       "       'Volume_16MA', 'Diff_Volume_16EMAVolume_8EMA', 'BolUpVolume_8MA',\n",
       "       'BolDnVolume_8MA', 'BolUpVolume_16MA', 'BolDnVolume_16MA', 'rtn_avg',\n",
       "       'abs_rtn_avg', 'avg_std8', 'avg_std16', 'abs_rtn_avg_8MA',\n",
       "       'abs_rtn_avg_16MA', 'avg_8EMA', 'avg_16EMA', 'avg_8MA', 'avg_16MA',\n",
       "       'Diff_avg_16EMAavg_8EMA', 'BolUpavg_8MA', 'BolDnavg_8MA',\n",
       "       'BolUpavg_16MA', 'BolDnavg_16MA', 'RSI_Close'],\n",
       "      dtype='object')"
      ]
     },
     "execution_count": 167,
     "metadata": {},
     "output_type": "execute_result"
    }
   ],
   "source": [
    "test.columns"
   ]
  },
  {
   "cell_type": "code",
   "execution_count": null,
   "id": "otherwise-locking",
   "metadata": {
    "ExecuteTime": {
     "end_time": "2021-02-22T22:58:40.479856Z",
     "start_time": "2021-02-22T22:58:39.307580Z"
    }
   },
   "outputs": [],
   "source": []
  },
  {
   "cell_type": "code",
   "execution_count": 168,
   "id": "molecular-canada",
   "metadata": {
    "ExecuteTime": {
     "end_time": "2021-02-23T00:25:29.945248Z",
     "start_time": "2021-02-23T00:25:29.927266Z"
    }
   },
   "outputs": [],
   "source": [
    "#Volume indicator\n",
    "test['Volume_ratio'] = test['Volume'] / test['Volume_8MA']\n",
    "\n",
    "#Features to locate the price divergence from the bollinger bands\n",
    "test['Close_MAs_ratio'] = test['Close_16MA'] / test['Close_8MA']\n",
    "test['DnBol_Dist_16'] = test['Close'] - test['BolDnClose_16MA']\n",
    "test['UpBol_Dist_16'] = test['Close'] - test['BolUpClose_16MA']\n",
    "test['Dist_BolDn_BolUp'] = test['BolUpClose_16MA'] - test['BolDnClose_16MA']"
   ]
  },
  {
   "cell_type": "code",
   "execution_count": 169,
   "id": "mineral-radiation",
   "metadata": {
    "ExecuteTime": {
     "end_time": "2021-02-23T00:25:30.561919Z",
     "start_time": "2021-02-23T00:25:29.963745Z"
    }
   },
   "outputs": [],
   "source": [
    "#Average true range calculation, volatility indicator\n",
    "\n",
    "t3 = 14  #the standard period for daily chart\n",
    "ATR = pd.DataFrame()\n",
    "ATR['HighLow'] = test['High'] - test['Low']\n",
    "ATR['High_Close-1'] = abs(test['High'] - test['Close'].shift(-1))\n",
    "ATR['Low_Close-1'] = abs(test['Low'] - test['Close'].shift(-1))\n",
    "ATR['True_Range'] = ATR.max(axis=1)\n",
    "ATR['ATR'] = ATR['True_Range'].rolling(window=t3).mean()"
   ]
  },
  {
   "cell_type": "code",
   "execution_count": 170,
   "id": "small-patio",
   "metadata": {
    "ExecuteTime": {
     "end_time": "2021-02-23T00:25:30.567774Z",
     "start_time": "2021-02-23T00:25:30.562787Z"
    }
   },
   "outputs": [],
   "source": [
    "test['ATR'] = ATR['ATR']"
   ]
  },
  {
   "cell_type": "code",
   "execution_count": 171,
   "id": "efficient-surface",
   "metadata": {
    "ExecuteTime": {
     "end_time": "2021-02-23T00:25:30.577747Z",
     "start_time": "2021-02-23T00:25:30.569769Z"
    }
   },
   "outputs": [],
   "source": [
    "#test = pd.read_csv('data-eth-15min.csv')\n",
    "#test = test.set_index(pd.to_datetime(test['Date']))"
   ]
  },
  {
   "cell_type": "code",
   "execution_count": 172,
   "id": "ethical-keyboard",
   "metadata": {
    "ExecuteTime": {
     "end_time": "2021-02-23T00:25:30.590905Z",
     "start_time": "2021-02-23T00:25:30.578744Z"
    },
    "scrolled": true
   },
   "outputs": [
    {
     "data": {
      "text/html": [
       "<div>\n",
       "<style scoped>\n",
       "    .dataframe tbody tr th:only-of-type {\n",
       "        vertical-align: middle;\n",
       "    }\n",
       "\n",
       "    .dataframe tbody tr th {\n",
       "        vertical-align: top;\n",
       "    }\n",
       "\n",
       "    .dataframe thead th {\n",
       "        text-align: right;\n",
       "    }\n",
       "</style>\n",
       "<table border=\"1\" class=\"dataframe\">\n",
       "  <thead>\n",
       "    <tr style=\"text-align: right;\">\n",
       "      <th></th>\n",
       "      <th>Close</th>\n",
       "    </tr>\n",
       "    <tr>\n",
       "      <th>Date</th>\n",
       "      <th></th>\n",
       "    </tr>\n",
       "  </thead>\n",
       "  <tbody>\n",
       "    <tr>\n",
       "      <th>2016-05-23 15:00:00</th>\n",
       "      <td>13.85</td>\n",
       "    </tr>\n",
       "    <tr>\n",
       "      <th>2016-05-23 15:15:00</th>\n",
       "      <td>13.85</td>\n",
       "    </tr>\n",
       "    <tr>\n",
       "      <th>2016-05-23 15:30:00</th>\n",
       "      <td>13.85</td>\n",
       "    </tr>\n",
       "    <tr>\n",
       "      <th>2016-05-23 15:45:00</th>\n",
       "      <td>13.85</td>\n",
       "    </tr>\n",
       "    <tr>\n",
       "      <th>2016-05-23 16:00:00</th>\n",
       "      <td>13.85</td>\n",
       "    </tr>\n",
       "  </tbody>\n",
       "</table>\n",
       "</div>"
      ],
      "text/plain": [
       "                     Close\n",
       "Date                      \n",
       "2016-05-23 15:00:00  13.85\n",
       "2016-05-23 15:15:00  13.85\n",
       "2016-05-23 15:30:00  13.85\n",
       "2016-05-23 15:45:00  13.85\n",
       "2016-05-23 16:00:00  13.85"
      ]
     },
     "execution_count": 172,
     "metadata": {},
     "output_type": "execute_result"
    }
   ],
   "source": [
    "support = pd.DataFrame(test['Close'])\n",
    "support.head()"
   ]
  },
  {
   "cell_type": "code",
   "execution_count": null,
   "id": "previous-charles",
   "metadata": {},
   "outputs": [],
   "source": []
  },
  {
   "cell_type": "code",
   "execution_count": 173,
   "id": "liked-lodge",
   "metadata": {
    "ExecuteTime": {
     "end_time": "2021-02-23T00:25:31.572285Z",
     "start_time": "2021-02-23T00:25:31.024924Z"
    },
    "scrolled": true
   },
   "outputs": [
    {
     "data": {
      "text/html": [
       "<div>\n",
       "<style scoped>\n",
       "    .dataframe tbody tr th:only-of-type {\n",
       "        vertical-align: middle;\n",
       "    }\n",
       "\n",
       "    .dataframe tbody tr th {\n",
       "        vertical-align: top;\n",
       "    }\n",
       "\n",
       "    .dataframe thead th {\n",
       "        text-align: right;\n",
       "    }\n",
       "</style>\n",
       "<table border=\"1\" class=\"dataframe\">\n",
       "  <thead>\n",
       "    <tr style=\"text-align: right;\">\n",
       "      <th></th>\n",
       "      <th>diff</th>\n",
       "      <th>lagged_diff</th>\n",
       "      <th>forward_diff</th>\n",
       "    </tr>\n",
       "    <tr>\n",
       "      <th>Date</th>\n",
       "      <th></th>\n",
       "      <th></th>\n",
       "      <th></th>\n",
       "    </tr>\n",
       "  </thead>\n",
       "  <tbody>\n",
       "    <tr>\n",
       "      <th>2016-05-23 15:00:00</th>\n",
       "      <td>0.0</td>\n",
       "      <td>0.0</td>\n",
       "      <td>0.0</td>\n",
       "    </tr>\n",
       "    <tr>\n",
       "      <th>2016-05-23 15:15:00</th>\n",
       "      <td>0.0</td>\n",
       "      <td>0.0</td>\n",
       "      <td>0.0</td>\n",
       "    </tr>\n",
       "    <tr>\n",
       "      <th>2016-05-23 15:30:00</th>\n",
       "      <td>0.0</td>\n",
       "      <td>0.0</td>\n",
       "      <td>0.0</td>\n",
       "    </tr>\n",
       "    <tr>\n",
       "      <th>2016-05-23 15:45:00</th>\n",
       "      <td>0.0</td>\n",
       "      <td>0.0</td>\n",
       "      <td>0.0</td>\n",
       "    </tr>\n",
       "    <tr>\n",
       "      <th>2016-05-23 16:00:00</th>\n",
       "      <td>0.0</td>\n",
       "      <td>0.0</td>\n",
       "      <td>0.0</td>\n",
       "    </tr>\n",
       "  </tbody>\n",
       "</table>\n",
       "</div>"
      ],
      "text/plain": [
       "                     diff  lagged_diff  forward_diff\n",
       "Date                                                \n",
       "2016-05-23 15:00:00   0.0          0.0           0.0\n",
       "2016-05-23 15:15:00   0.0          0.0           0.0\n",
       "2016-05-23 15:30:00   0.0          0.0           0.0\n",
       "2016-05-23 15:45:00   0.0          0.0           0.0\n",
       "2016-05-23 16:00:00   0.0          0.0           0.0"
      ]
     },
     "execution_count": 173,
     "metadata": {},
     "output_type": "execute_result"
    }
   ],
   "source": [
    "#trying to find support support and resistance via the differentiation. We know that a derivative is equal to 0 for \n",
    "# minima and maxima. Although it doesnt really work here as price is a random walk\n",
    "supports = pd.DataFrame()\n",
    "supports['diff'] = test['Close_8EMA'].diff(3)\n",
    "supports['lagged_diff'] = supports['diff'].shift(-1)\n",
    "supports['forward_diff'] = supports['diff'].shift(1)\n",
    "supports.fillna(0,inplace=True)\n",
    "supports.head()"
   ]
  },
  {
   "cell_type": "code",
   "execution_count": 174,
   "id": "modified-diversity",
   "metadata": {
    "ExecuteTime": {
     "end_time": "2021-02-23T00:25:31.586181Z",
     "start_time": "2021-02-23T00:25:31.573259Z"
    }
   },
   "outputs": [
    {
     "name": "stdout",
     "output_type": "stream",
     "text": [
      "<class 'pandas.core.frame.DataFrame'>\n",
      "DatetimeIndex: 163913 entries, 2016-05-23 15:00:00 to 2021-01-25 00:00:00\n",
      "Data columns (total 3 columns):\n",
      " #   Column        Non-Null Count   Dtype  \n",
      "---  ------        --------------   -----  \n",
      " 0   diff          163913 non-null  float64\n",
      " 1   lagged_diff   163913 non-null  float64\n",
      " 2   forward_diff  163913 non-null  float64\n",
      "dtypes: float64(3)\n",
      "memory usage: 5.0 MB\n"
     ]
    }
   ],
   "source": [
    "supports.info()"
   ]
  },
  {
   "cell_type": "code",
   "execution_count": 175,
   "id": "cathedral-cuisine",
   "metadata": {
    "ExecuteTime": {
     "end_time": "2021-02-23T00:25:31.597151Z",
     "start_time": "2021-02-23T00:25:31.588176Z"
    },
    "scrolled": true
   },
   "outputs": [],
   "source": [
    "supports['pivot'] = np.where(((supports['lagged_diff'] < 0) & (supports['forward_diff'] > 0)), 1,\n",
    "                                np.where(((supports['lagged_diff'] > 0) & (supports['forward_diff'] < 0)), 2, 0))"
   ]
  },
  {
   "cell_type": "code",
   "execution_count": 176,
   "id": "previous-morrison",
   "metadata": {
    "ExecuteTime": {
     "end_time": "2021-02-23T00:25:31.611734Z",
     "start_time": "2021-02-23T00:25:31.598148Z"
    },
    "scrolled": true
   },
   "outputs": [
    {
     "data": {
      "text/html": [
       "<div>\n",
       "<style scoped>\n",
       "    .dataframe tbody tr th:only-of-type {\n",
       "        vertical-align: middle;\n",
       "    }\n",
       "\n",
       "    .dataframe tbody tr th {\n",
       "        vertical-align: top;\n",
       "    }\n",
       "\n",
       "    .dataframe thead th {\n",
       "        text-align: right;\n",
       "    }\n",
       "</style>\n",
       "<table border=\"1\" class=\"dataframe\">\n",
       "  <thead>\n",
       "    <tr style=\"text-align: right;\">\n",
       "      <th></th>\n",
       "      <th>diff</th>\n",
       "      <th>lagged_diff</th>\n",
       "      <th>forward_diff</th>\n",
       "      <th>pivot</th>\n",
       "    </tr>\n",
       "    <tr>\n",
       "      <th>Date</th>\n",
       "      <th></th>\n",
       "      <th></th>\n",
       "      <th></th>\n",
       "      <th></th>\n",
       "    </tr>\n",
       "  </thead>\n",
       "  <tbody>\n",
       "    <tr>\n",
       "      <th>2016-05-23 15:00:00</th>\n",
       "      <td>0.0</td>\n",
       "      <td>0.0</td>\n",
       "      <td>0.0</td>\n",
       "      <td>0</td>\n",
       "    </tr>\n",
       "    <tr>\n",
       "      <th>2016-05-23 15:15:00</th>\n",
       "      <td>0.0</td>\n",
       "      <td>0.0</td>\n",
       "      <td>0.0</td>\n",
       "      <td>0</td>\n",
       "    </tr>\n",
       "    <tr>\n",
       "      <th>2016-05-23 15:30:00</th>\n",
       "      <td>0.0</td>\n",
       "      <td>0.0</td>\n",
       "      <td>0.0</td>\n",
       "      <td>0</td>\n",
       "    </tr>\n",
       "    <tr>\n",
       "      <th>2016-05-23 15:45:00</th>\n",
       "      <td>0.0</td>\n",
       "      <td>0.0</td>\n",
       "      <td>0.0</td>\n",
       "      <td>0</td>\n",
       "    </tr>\n",
       "    <tr>\n",
       "      <th>2016-05-23 16:00:00</th>\n",
       "      <td>0.0</td>\n",
       "      <td>0.0</td>\n",
       "      <td>0.0</td>\n",
       "      <td>0</td>\n",
       "    </tr>\n",
       "  </tbody>\n",
       "</table>\n",
       "</div>"
      ],
      "text/plain": [
       "                     diff  lagged_diff  forward_diff  pivot\n",
       "Date                                                       \n",
       "2016-05-23 15:00:00   0.0          0.0           0.0      0\n",
       "2016-05-23 15:15:00   0.0          0.0           0.0      0\n",
       "2016-05-23 15:30:00   0.0          0.0           0.0      0\n",
       "2016-05-23 15:45:00   0.0          0.0           0.0      0\n",
       "2016-05-23 16:00:00   0.0          0.0           0.0      0"
      ]
     },
     "execution_count": 176,
     "metadata": {},
     "output_type": "execute_result"
    }
   ],
   "source": [
    "supports.head()"
   ]
  },
  {
   "cell_type": "code",
   "execution_count": 177,
   "id": "noble-sheep",
   "metadata": {
    "ExecuteTime": {
     "end_time": "2021-02-23T00:25:31.620709Z",
     "start_time": "2021-02-23T00:25:31.613728Z"
    }
   },
   "outputs": [],
   "source": [
    "test['pivot'] = supports['pivot']"
   ]
  },
  {
   "cell_type": "code",
   "execution_count": null,
   "id": "close-jerusalem",
   "metadata": {
    "ExecuteTime": {
     "end_time": "2021-02-15T09:36:49.993991Z",
     "start_time": "2021-02-15T09:36:49.952130Z"
    }
   },
   "outputs": [],
   "source": []
  },
  {
   "cell_type": "code",
   "execution_count": 178,
   "id": "dramatic-mention",
   "metadata": {
    "ExecuteTime": {
     "end_time": "2021-02-23T00:25:32.851862Z",
     "start_time": "2021-02-23T00:25:32.126980Z"
    },
    "scrolled": false
   },
   "outputs": [
    {
     "data": {
      "image/png": "[encoded data removed]",
      "text/plain": [
       "<Figure size 576x576 with 1 Axes>"
      ]
     },
     "metadata": {
      "needs_background": "light"
     },
     "output_type": "display_data"
    }
   ],
   "source": [
    "fig, ax = plt.subplots(figsize=(8,8))\n",
    "test['abs_rtn_avg'].hist(bins=500)\n",
    "plt.xlim(0,0.1)\n",
    "plt.show()"
   ]
  },
  {
   "cell_type": "code",
   "execution_count": 179,
   "id": "tribal-handle",
   "metadata": {
    "ExecuteTime": {
     "end_time": "2021-02-23T00:25:33.360540Z",
     "start_time": "2021-02-23T00:25:32.853856Z"
    },
    "scrolled": false
   },
   "outputs": [
    {
     "data": {
      "image/png": "[encoded data removed]",
      "text/plain": [
       "<Figure size 576x576 with 1 Axes>"
      ]
     },
     "metadata": {
      "needs_background": "light"
     },
     "output_type": "display_data"
    }
   ],
   "source": [
    "fig, ax = plt.subplots(figsize=(8,8))\n",
    "test['Close'].pct_change(periods=1).hist(bins=300)\n",
    "plt.xlim(-0.10,0.10)\n",
    "plt.show()"
   ]
  },
  {
   "cell_type": "code",
   "execution_count": 180,
   "id": "exact-scholar",
   "metadata": {
    "ExecuteTime": {
     "end_time": "2021-02-23T00:25:37.668959Z",
     "start_time": "2021-02-23T00:25:35.548991Z"
    },
    "scrolled": false
   },
   "outputs": [
    {
     "data": {
      "image/png": "[encoded data removed]",
      "text/plain": [
       "<Figure size 1080x720 with 4 Axes>"
      ]
     },
     "metadata": {
      "needs_background": "light"
     },
     "output_type": "display_data"
    }
   ],
   "source": [
    "fig, ax = plt.subplots(nrows=2,ncols=2,figsize=(15,10))\n",
    "test.resample('D').mean()['Close'].pct_change(periods=1).hist(bins=250,ax=ax[0,0])\n",
    "test.resample('D').median()['Close'].pct_change(periods=1).hist(bins=250,ax=ax[0,1])\n",
    "test.resample('D').max()['Close'].pct_change(periods=1).hist(bins=250,ax=ax[1,0])\n",
    "test.resample('D').min()['Close'].pct_change(periods=1).hist(bins=250,ax=ax[1,1])\n",
    "ax[0,0].set_title('Mean hourly return')\n",
    "ax[0,1].set_title('Median hourly return')\n",
    "ax[1,0].set_title('Max hourly return')\n",
    "ax[1,1].set_title('Min hourly return')\n",
    "ax[0,0].set_xlim(-0.10,0.10)\n",
    "ax[0,1].set_xlim(-0.10,0.10)\n",
    "ax[1,0].set_xlim(-0.10,0.10)\n",
    "ax[1,1].set_xlim(-0.10,0.10)\n",
    "plt.show()"
   ]
  },
  {
   "cell_type": "code",
   "execution_count": 181,
   "id": "accepted-interstate",
   "metadata": {
    "ExecuteTime": {
     "end_time": "2021-02-23T00:25:37.789508Z",
     "start_time": "2021-02-23T00:25:37.669930Z"
    }
   },
   "outputs": [
    {
     "ename": "KeyError",
     "evalue": "'avg_7MA'",
     "output_type": "error",
     "traceback": [
      "\u001b[1;31m---------------------------------------------------------------------------\u001b[0m",
      "\u001b[1;31mKeyError\u001b[0m                                  Traceback (most recent call last)",
      "\u001b[1;32m~\\Anaconda3\\lib\\site-packages\\pandas\\core\\indexes\\base.py\u001b[0m in \u001b[0;36mget_loc\u001b[1;34m(self, key, method, tolerance)\u001b[0m\n\u001b[0;32m   3079\u001b[0m             \u001b[1;32mtry\u001b[0m\u001b[1;33m:\u001b[0m\u001b[1;33m\u001b[0m\u001b[1;33m\u001b[0m\u001b[0m\n\u001b[1;32m-> 3080\u001b[1;33m                 \u001b[1;32mreturn\u001b[0m \u001b[0mself\u001b[0m\u001b[1;33m.\u001b[0m\u001b[0m_engine\u001b[0m\u001b[1;33m.\u001b[0m\u001b[0mget_loc\u001b[0m\u001b[1;33m(\u001b[0m\u001b[0mcasted_key\u001b[0m\u001b[1;33m)\u001b[0m\u001b[1;33m\u001b[0m\u001b[1;33m\u001b[0m\u001b[0m\n\u001b[0m\u001b[0;32m   3081\u001b[0m             \u001b[1;32mexcept\u001b[0m \u001b[0mKeyError\u001b[0m \u001b[1;32mas\u001b[0m \u001b[0merr\u001b[0m\u001b[1;33m:\u001b[0m\u001b[1;33m\u001b[0m\u001b[1;33m\u001b[0m\u001b[0m\n",
      "\u001b[1;32mpandas\\_libs\\index.pyx\u001b[0m in \u001b[0;36mpandas._libs.index.IndexEngine.get_loc\u001b[1;34m()\u001b[0m\n",
      "\u001b[1;32mpandas\\_libs\\index.pyx\u001b[0m in \u001b[0;36mpandas._libs.index.IndexEngine.get_loc\u001b[1;34m()\u001b[0m\n",
      "\u001b[1;32mpandas\\_libs\\hashtable_class_helper.pxi\u001b[0m in \u001b[0;36mpandas._libs.hashtable.PyObjectHashTable.get_item\u001b[1;34m()\u001b[0m\n",
      "\u001b[1;32mpandas\\_libs\\hashtable_class_helper.pxi\u001b[0m in \u001b[0;36mpandas._libs.hashtable.PyObjectHashTable.get_item\u001b[1;34m()\u001b[0m\n",
      "\u001b[1;31mKeyError\u001b[0m: 'avg_7MA'",
      "\nThe above exception was the direct cause of the following exception:\n",
      "\u001b[1;31mKeyError\u001b[0m                                  Traceback (most recent call last)",
      "\u001b[1;32m<ipython-input-181-265949e25b02>\u001b[0m in \u001b[0;36m<module>\u001b[1;34m\u001b[0m\n\u001b[0;32m      1\u001b[0m \u001b[0mtrace0\u001b[0m \u001b[1;33m=\u001b[0m \u001b[0mgo\u001b[0m\u001b[1;33m.\u001b[0m\u001b[0mScatter\u001b[0m\u001b[1;33m(\u001b[0m\u001b[0mx\u001b[0m\u001b[1;33m=\u001b[0m\u001b[0mtest\u001b[0m\u001b[1;33m.\u001b[0m\u001b[0mindex\u001b[0m\u001b[1;33m,\u001b[0m \u001b[0my\u001b[0m\u001b[1;33m=\u001b[0m\u001b[0mtest\u001b[0m\u001b[1;33m[\u001b[0m\u001b[1;34m'avg'\u001b[0m\u001b[1;33m]\u001b[0m\u001b[1;33m,\u001b[0m \u001b[0mname\u001b[0m\u001b[1;33m=\u001b[0m\u001b[1;34m'avg'\u001b[0m\u001b[1;33m,\u001b[0m \u001b[0mline\u001b[0m\u001b[1;33m=\u001b[0m\u001b[0mdict\u001b[0m\u001b[1;33m(\u001b[0m\u001b[0mcolor\u001b[0m\u001b[1;33m=\u001b[0m\u001b[1;34m'lime'\u001b[0m\u001b[1;33m)\u001b[0m\u001b[1;33m)\u001b[0m\u001b[1;33m\u001b[0m\u001b[1;33m\u001b[0m\u001b[0m\n\u001b[1;32m----> 2\u001b[1;33m \u001b[0mtrace1\u001b[0m \u001b[1;33m=\u001b[0m \u001b[0mgo\u001b[0m\u001b[1;33m.\u001b[0m\u001b[0mScatter\u001b[0m\u001b[1;33m(\u001b[0m\u001b[0mx\u001b[0m\u001b[1;33m=\u001b[0m\u001b[0mtest\u001b[0m\u001b[1;33m.\u001b[0m\u001b[0mindex\u001b[0m\u001b[1;33m,\u001b[0m \u001b[0my\u001b[0m\u001b[1;33m=\u001b[0m\u001b[0mtest\u001b[0m\u001b[1;33m[\u001b[0m\u001b[1;34m'avg_7MA'\u001b[0m\u001b[1;33m]\u001b[0m\u001b[1;33m,\u001b[0m \u001b[0mname\u001b[0m\u001b[1;33m=\u001b[0m\u001b[1;34m'60MA'\u001b[0m\u001b[1;33m,\u001b[0m \u001b[0mline\u001b[0m\u001b[1;33m=\u001b[0m\u001b[0mdict\u001b[0m\u001b[1;33m(\u001b[0m\u001b[0mcolor\u001b[0m\u001b[1;33m=\u001b[0m\u001b[1;34m'grey'\u001b[0m\u001b[1;33m)\u001b[0m\u001b[1;33m)\u001b[0m\u001b[1;33m\u001b[0m\u001b[1;33m\u001b[0m\u001b[0m\n\u001b[0m\u001b[0;32m      3\u001b[0m \u001b[1;31m#trace2 = go.Scatter(x=test.index, y=test['avg'].rolling(window=96).mean(), name='96MA', line=dict(color='red'))\u001b[0m\u001b[1;33m\u001b[0m\u001b[1;33m\u001b[0m\u001b[1;33m\u001b[0m\u001b[0m\n\u001b[0;32m      4\u001b[0m \u001b[1;31m#trace3 = go.Scatter(x=test.index, y=test['BolUpavg_96MA'],\u001b[0m\u001b[1;33m\u001b[0m\u001b[1;33m\u001b[0m\u001b[1;33m\u001b[0m\u001b[0m\n\u001b[0;32m      5\u001b[0m \u001b[1;31m#                    name='Bup', line=dict(color='blue'),marker=dict(size = 15, color = 'blue', symbol = 'cross'))\u001b[0m\u001b[1;33m\u001b[0m\u001b[1;33m\u001b[0m\u001b[1;33m\u001b[0m\u001b[0m\n",
      "\u001b[1;32m~\\Anaconda3\\lib\\site-packages\\pandas\\core\\frame.py\u001b[0m in \u001b[0;36m__getitem__\u001b[1;34m(self, key)\u001b[0m\n\u001b[0;32m   3022\u001b[0m             \u001b[1;32mif\u001b[0m \u001b[0mself\u001b[0m\u001b[1;33m.\u001b[0m\u001b[0mcolumns\u001b[0m\u001b[1;33m.\u001b[0m\u001b[0mnlevels\u001b[0m \u001b[1;33m>\u001b[0m \u001b[1;36m1\u001b[0m\u001b[1;33m:\u001b[0m\u001b[1;33m\u001b[0m\u001b[1;33m\u001b[0m\u001b[0m\n\u001b[0;32m   3023\u001b[0m                 \u001b[1;32mreturn\u001b[0m \u001b[0mself\u001b[0m\u001b[1;33m.\u001b[0m\u001b[0m_getitem_multilevel\u001b[0m\u001b[1;33m(\u001b[0m\u001b[0mkey\u001b[0m\u001b[1;33m)\u001b[0m\u001b[1;33m\u001b[0m\u001b[1;33m\u001b[0m\u001b[0m\n\u001b[1;32m-> 3024\u001b[1;33m             \u001b[0mindexer\u001b[0m \u001b[1;33m=\u001b[0m \u001b[0mself\u001b[0m\u001b[1;33m.\u001b[0m\u001b[0mcolumns\u001b[0m\u001b[1;33m.\u001b[0m\u001b[0mget_loc\u001b[0m\u001b[1;33m(\u001b[0m\u001b[0mkey\u001b[0m\u001b[1;33m)\u001b[0m\u001b[1;33m\u001b[0m\u001b[1;33m\u001b[0m\u001b[0m\n\u001b[0m\u001b[0;32m   3025\u001b[0m             \u001b[1;32mif\u001b[0m \u001b[0mis_integer\u001b[0m\u001b[1;33m(\u001b[0m\u001b[0mindexer\u001b[0m\u001b[1;33m)\u001b[0m\u001b[1;33m:\u001b[0m\u001b[1;33m\u001b[0m\u001b[1;33m\u001b[0m\u001b[0m\n\u001b[0;32m   3026\u001b[0m                 \u001b[0mindexer\u001b[0m \u001b[1;33m=\u001b[0m \u001b[1;33m[\u001b[0m\u001b[0mindexer\u001b[0m\u001b[1;33m]\u001b[0m\u001b[1;33m\u001b[0m\u001b[1;33m\u001b[0m\u001b[0m\n",
      "\u001b[1;32m~\\Anaconda3\\lib\\site-packages\\pandas\\core\\indexes\\base.py\u001b[0m in \u001b[0;36mget_loc\u001b[1;34m(self, key, method, tolerance)\u001b[0m\n\u001b[0;32m   3080\u001b[0m                 \u001b[1;32mreturn\u001b[0m \u001b[0mself\u001b[0m\u001b[1;33m.\u001b[0m\u001b[0m_engine\u001b[0m\u001b[1;33m.\u001b[0m\u001b[0mget_loc\u001b[0m\u001b[1;33m(\u001b[0m\u001b[0mcasted_key\u001b[0m\u001b[1;33m)\u001b[0m\u001b[1;33m\u001b[0m\u001b[1;33m\u001b[0m\u001b[0m\n\u001b[0;32m   3081\u001b[0m             \u001b[1;32mexcept\u001b[0m \u001b[0mKeyError\u001b[0m \u001b[1;32mas\u001b[0m \u001b[0merr\u001b[0m\u001b[1;33m:\u001b[0m\u001b[1;33m\u001b[0m\u001b[1;33m\u001b[0m\u001b[0m\n\u001b[1;32m-> 3082\u001b[1;33m                 \u001b[1;32mraise\u001b[0m \u001b[0mKeyError\u001b[0m\u001b[1;33m(\u001b[0m\u001b[0mkey\u001b[0m\u001b[1;33m)\u001b[0m \u001b[1;32mfrom\u001b[0m \u001b[0merr\u001b[0m\u001b[1;33m\u001b[0m\u001b[1;33m\u001b[0m\u001b[0m\n\u001b[0m\u001b[0;32m   3083\u001b[0m \u001b[1;33m\u001b[0m\u001b[0m\n\u001b[0;32m   3084\u001b[0m         \u001b[1;32mif\u001b[0m \u001b[0mtolerance\u001b[0m \u001b[1;32mis\u001b[0m \u001b[1;32mnot\u001b[0m \u001b[1;32mNone\u001b[0m\u001b[1;33m:\u001b[0m\u001b[1;33m\u001b[0m\u001b[1;33m\u001b[0m\u001b[0m\n",
      "\u001b[1;31mKeyError\u001b[0m: 'avg_7MA'"
     ]
    }
   ],
   "source": [
    "trace0 = go.Scatter(x=test.index, y=test['avg'], name='avg', line=dict(color='lime'))\n",
    "trace1 = go.Scatter(x=test.index, y=test['avg_7MA'], name='60MA', line=dict(color='grey'))\n",
    "#trace2 = go.Scatter(x=test.index, y=test['avg'].rolling(window=96).mean(), name='96MA', line=dict(color='red'))\n",
    "#trace3 = go.Scatter(x=test.index, y=test['BolUpavg_96MA'], \n",
    "#                    name='Bup', line=dict(color='blue'),marker=dict(size = 15, color = 'blue', symbol = 'cross'))\n",
    "#trace4 = go.Scatter(x=test.index, y=test['BolDnavg_96MA'], \n",
    "#                    name='Bdn', line=dict(color='blue'),marker=dict(size = 15, color = 'blue', symbol = 'cross'))\n",
    "\n",
    "#trace4 = go.Scatter(x=test.index, y=test['pivot'], \n",
    "#                    name='Bdn', line=dict(color='blue'),marker=dict(size = 15, color = 'blue', symbol = 'cross'))\n",
    "\n",
    "#data = [trace0, trace1, trace2,trace3, trace4]\n",
    "data = [trace0, trace1]\n",
    "layout = dict(\n",
    "            title='ETH',\n",
    "              xaxis = dict(\n",
    "        range = [min(test.index),max(test.index)]\n",
    "              )\n",
    "             )\n",
    "\n",
    "fig = dict(data=data, layout=layout)\n",
    "py.iplot(fig)"
   ]
  },
  {
   "cell_type": "code",
   "execution_count": 182,
   "id": "opposed-honey",
   "metadata": {
    "ExecuteTime": {
     "end_time": "2021-02-23T00:25:41.484251Z",
     "start_time": "2021-02-23T00:25:41.471168Z"
    }
   },
   "outputs": [],
   "source": [
    "#Create my target variable: \n",
    "# return for the next 30min (15min data),\n",
    "# return for the next 4h (hourly data), \n",
    "# return the next 2d (daily data),\n",
    "# Then make a column that says if the return is positive or negative (flat return included) .\n",
    "test['Return_1h'] = test['Close'].ewm(span=1).mean().pct_change(4).shift(-5)"
   ]
  },
  {
   "cell_type": "code",
   "execution_count": 183,
   "id": "organizational-inside",
   "metadata": {
    "ExecuteTime": {
     "end_time": "2021-02-23T00:25:41.750771Z",
     "start_time": "2021-02-23T00:25:41.651915Z"
    }
   },
   "outputs": [
    {
     "data": {
      "text/html": [
       "<div>\n",
       "<style scoped>\n",
       "    .dataframe tbody tr th:only-of-type {\n",
       "        vertical-align: middle;\n",
       "    }\n",
       "\n",
       "    .dataframe tbody tr th {\n",
       "        vertical-align: top;\n",
       "    }\n",
       "\n",
       "    .dataframe thead th {\n",
       "        text-align: right;\n",
       "    }\n",
       "</style>\n",
       "<table border=\"1\" class=\"dataframe\">\n",
       "  <thead>\n",
       "    <tr style=\"text-align: right;\">\n",
       "      <th></th>\n",
       "      <th>Close</th>\n",
       "      <th>Return_1h</th>\n",
       "    </tr>\n",
       "    <tr>\n",
       "      <th>Date</th>\n",
       "      <th></th>\n",
       "      <th></th>\n",
       "    </tr>\n",
       "  </thead>\n",
       "  <tbody>\n",
       "    <tr>\n",
       "      <th>2016-05-23 15:00:00</th>\n",
       "      <td>13.85</td>\n",
       "      <td>0.0</td>\n",
       "    </tr>\n",
       "    <tr>\n",
       "      <th>2016-05-23 15:15:00</th>\n",
       "      <td>13.85</td>\n",
       "      <td>0.0</td>\n",
       "    </tr>\n",
       "    <tr>\n",
       "      <th>2016-05-23 15:30:00</th>\n",
       "      <td>13.85</td>\n",
       "      <td>0.0</td>\n",
       "    </tr>\n",
       "    <tr>\n",
       "      <th>2016-05-23 15:45:00</th>\n",
       "      <td>13.85</td>\n",
       "      <td>0.0</td>\n",
       "    </tr>\n",
       "    <tr>\n",
       "      <th>2016-05-23 16:00:00</th>\n",
       "      <td>13.85</td>\n",
       "      <td>0.0</td>\n",
       "    </tr>\n",
       "  </tbody>\n",
       "</table>\n",
       "</div>"
      ],
      "text/plain": [
       "                     Close  Return_1h\n",
       "Date                                 \n",
       "2016-05-23 15:00:00  13.85        0.0\n",
       "2016-05-23 15:15:00  13.85        0.0\n",
       "2016-05-23 15:30:00  13.85        0.0\n",
       "2016-05-23 15:45:00  13.85        0.0\n",
       "2016-05-23 16:00:00  13.85        0.0"
      ]
     },
     "execution_count": 183,
     "metadata": {},
     "output_type": "execute_result"
    }
   ],
   "source": [
    "test[['Close','Return_1h']].head()"
   ]
  },
  {
   "cell_type": "code",
   "execution_count": 184,
   "id": "likely-toyota",
   "metadata": {
    "ExecuteTime": {
     "end_time": "2021-02-23T00:25:41.819852Z",
     "start_time": "2021-02-23T00:25:41.806133Z"
    }
   },
   "outputs": [
    {
     "data": {
      "text/plain": [
       "count    163908.000000\n",
       "mean          0.000187\n",
       "std           0.012229\n",
       "min          -0.243722\n",
       "25%          -0.003863\n",
       "50%           0.000000\n",
       "75%           0.004161\n",
       "max           0.352399\n",
       "Name: Return_1h, dtype: float64"
      ]
     },
     "execution_count": 184,
     "metadata": {},
     "output_type": "execute_result"
    }
   ],
   "source": [
    "test['Return_1h'].describe()"
   ]
  },
  {
   "cell_type": "code",
   "execution_count": 185,
   "id": "headed-client",
   "metadata": {
    "ExecuteTime": {
     "end_time": "2021-02-23T00:25:42.749133Z",
     "start_time": "2021-02-23T00:25:41.978772Z"
    },
    "scrolled": false
   },
   "outputs": [
    {
     "data": {
      "image/png": "[encoded data removed]",
      "text/plain": [
       "<Figure size 576x576 with 1 Axes>"
      ]
     },
     "metadata": {
      "needs_background": "light"
     },
     "output_type": "display_data"
    }
   ],
   "source": [
    "fig, ax = plt.subplots(figsize=(8,8))\n",
    "test['Return_1h'].hist(bins=500)\n",
    "plt.xlim(-0.1003,0.1003)\n",
    "plt.show()"
   ]
  },
  {
   "cell_type": "code",
   "execution_count": 187,
   "id": "limiting-rebate",
   "metadata": {
    "ExecuteTime": {
     "end_time": "2021-02-23T00:25:45.392627Z",
     "start_time": "2021-02-23T00:25:45.336964Z"
    }
   },
   "outputs": [],
   "source": [
    "test['BuyorSell'] = [-1 if x <= 0 else 1 for x in test['Return_1h']]"
   ]
  },
  {
   "cell_type": "code",
   "execution_count": null,
   "id": "minute-polyester",
   "metadata": {
    "ExecuteTime": {
     "end_time": "2021-02-14T23:21:19.939532Z",
     "start_time": "2021-02-14T23:21:19.934547Z"
    }
   },
   "outputs": [],
   "source": []
  },
  {
   "cell_type": "code",
   "execution_count": 188,
   "id": "victorian-projection",
   "metadata": {
    "ExecuteTime": {
     "end_time": "2021-02-23T00:25:46.010711Z",
     "start_time": "2021-02-23T00:25:46.002733Z"
    },
    "scrolled": true
   },
   "outputs": [
    {
     "data": {
      "text/plain": [
       "-1    0.503822\n",
       " 1    0.496178\n",
       "Name: BuyorSell, dtype: float64"
      ]
     },
     "execution_count": 188,
     "metadata": {},
     "output_type": "execute_result"
    }
   ],
   "source": [
    "# I am including the flat return to the positive return target variable in the model notebook.\n",
    "test['BuyorSell'].value_counts(normalize=True)"
   ]
  },
  {
   "cell_type": "code",
   "execution_count": 190,
   "id": "healthy-directive",
   "metadata": {
    "ExecuteTime": {
     "end_time": "2021-02-23T00:26:06.625109Z",
     "start_time": "2021-02-23T00:25:54.546915Z"
    }
   },
   "outputs": [],
   "source": [
    "#Saving the finale data\n",
    "test.to_csv('data-eth-15min.csv')"
   ]
  },
  {
   "cell_type": "code",
   "execution_count": null,
   "id": "comprehensive-arrow",
   "metadata": {},
   "outputs": [],
   "source": []
  }
 ],
 "metadata": {
  "kernelspec": {
   "display_name": "Python 3",
   "language": "python",
   "name": "python3"
  },
  "language_info": {
   "codemirror_mode": {
    "name": "ipython",
    "version": 3
   },
   "file_extension": ".py",
   "mimetype": "text/x-python",
   "name": "python",
   "nbconvert_exporter": "python",
   "pygments_lexer": "ipython3",
   "version": "3.7.9"
  }
 },
 "nbformat": 4,
 "nbformat_minor": 5
}
