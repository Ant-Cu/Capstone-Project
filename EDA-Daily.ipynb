{
 "cells": [
  {
   "cell_type": "code",
   "execution_count": 1,
   "id": "favorite-application",
   "metadata": {
    "ExecuteTime": {
     "end_time": "2021-02-25T11:35:28.547239Z",
     "start_time": "2021-02-25T11:35:26.291701Z"
    }
   },
   "outputs": [],
   "source": [
    "import cbpro\n",
    "import pandas as pd\n",
    "import numpy as np\n",
    "import matplotlib.pyplot as plt\n",
    "import seaborn as sns\n",
    "import requests\n",
    "import arrow\n",
    "from requests.auth import AuthBase\n",
    "import plotly.graph_objs as go\n",
    "\n",
    "\n",
    "pd.options.display.max_rows = 4000\n",
    "pd.options.display.max_columns = 4000\n"
   ]
  },
  {
   "cell_type": "code",
   "execution_count": 2,
   "id": "sudden-mouth",
   "metadata": {
    "ExecuteTime": {
     "end_time": "2021-02-25T11:35:29.653945Z",
     "start_time": "2021-02-25T11:35:28.548216Z"
    }
   },
   "outputs": [
    {
     "data": {
      "text/html": [
       "        <script type=\"text/javascript\">\n",
       "        window.PlotlyConfig = {MathJaxConfig: 'local'};\n",
       "        if (window.MathJax) {MathJax.Hub.Config({SVG: {font: \"STIX-Web\"}});}\n",
       "        if (typeof require !== 'undefined') {\n",
       "        require.undef(\"plotly\");\n",
       "        requirejs.config({\n",
       "            paths: {\n",
       "                'plotly': ['https://cdn.plot.ly/plotly-latest.min']\n",
       "            }\n",
       "        });\n",
       "        require(['plotly'], function(Plotly) {\n",
       "            window._Plotly = Plotly;\n",
       "        });\n",
       "        }\n",
       "        </script>\n",
       "        "
      ]
     },
     "metadata": {},
     "output_type": "display_data"
    }
   ],
   "source": [
    "import plotly.offline as py\n",
    "import plotly.graph_objs as go\n",
    "py.init_notebook_mode(connected=True)\n",
    "from plotly import tools\n",
    "import plotly.figure_factory as ff"
   ]
  },
  {
   "cell_type": "markdown",
   "id": "renewable-melissa",
   "metadata": {},
   "source": [
    "# Read CSV File"
   ]
  },
  {
   "cell_type": "code",
   "execution_count": 3,
   "id": "single-patio",
   "metadata": {
    "ExecuteTime": {
     "end_time": "2021-02-25T11:35:29.657838Z",
     "start_time": "2021-02-25T11:35:29.654846Z"
    }
   },
   "outputs": [],
   "source": [
    "#new_df.to_csv('ETHUSD5M.csv',index=False)"
   ]
  },
  {
   "cell_type": "code",
   "execution_count": 9,
   "id": "imposed-quantum",
   "metadata": {
    "ExecuteTime": {
     "end_time": "2021-02-23T16:49:05.732406Z",
     "start_time": "2021-02-23T16:49:05.717448Z"
    }
   },
   "outputs": [
    {
     "data": {
      "text/plain": [
       "(1842, 6)"
      ]
     },
     "execution_count": 9,
     "metadata": {},
     "output_type": "execute_result"
    }
   ],
   "source": [
    "test = pd.read_csv('BTCDaily.csv')\n",
    "\n",
    "test.shape"
   ]
  },
  {
   "cell_type": "code",
   "execution_count": 11,
   "id": "global-piano",
   "metadata": {
    "ExecuteTime": {
     "end_time": "2021-02-23T16:49:05.760516Z",
     "start_time": "2021-02-23T16:49:05.753536Z"
    }
   },
   "outputs": [],
   "source": [
    "#test.drop('Unnamed: 0',axis=1,inplace=True)\n",
    "test = test.sort_values('Date')"
   ]
  },
  {
   "cell_type": "code",
   "execution_count": 12,
   "id": "educational-european",
   "metadata": {
    "ExecuteTime": {
     "end_time": "2021-02-23T16:49:05.792432Z",
     "start_time": "2021-02-23T16:49:05.762511Z"
    }
   },
   "outputs": [],
   "source": [
    "test['avg'] = (test[['Low','High','Close']].sum(axis=1))/3"
   ]
  },
  {
   "cell_type": "code",
   "execution_count": 13,
   "id": "fitted-devices",
   "metadata": {
    "ExecuteTime": {
     "end_time": "2021-02-23T16:49:05.799413Z",
     "start_time": "2021-02-23T16:49:05.793430Z"
    }
   },
   "outputs": [],
   "source": [
    "#test = test.set_index('Date')\n",
    "test = test[['Date','Open','High','Low','Close','Volume','avg']].copy()\n",
    "test.columns = ['Date','Open','High','Low','Close','Volume','avg']"
   ]
  },
  {
   "cell_type": "code",
   "execution_count": 15,
   "id": "maritime-anger",
   "metadata": {
    "ExecuteTime": {
     "end_time": "2021-02-23T16:49:05.835083Z",
     "start_time": "2021-02-23T16:49:05.822126Z"
    }
   },
   "outputs": [],
   "source": [
    "test['Date'] = pd.to_datetime(test['Date'])"
   ]
  },
  {
   "cell_type": "code",
   "execution_count": 16,
   "id": "lined-protest",
   "metadata": {
    "ExecuteTime": {
     "end_time": "2021-02-23T16:49:05.853104Z",
     "start_time": "2021-02-23T16:49:05.836081Z"
    },
    "scrolled": false
   },
   "outputs": [
    {
     "data": {
      "text/html": [
       "<div>\n",
       "<style scoped>\n",
       "    .dataframe tbody tr th:only-of-type {\n",
       "        vertical-align: middle;\n",
       "    }\n",
       "\n",
       "    .dataframe tbody tr th {\n",
       "        vertical-align: top;\n",
       "    }\n",
       "\n",
       "    .dataframe thead th {\n",
       "        text-align: right;\n",
       "    }\n",
       "</style>\n",
       "<table border=\"1\" class=\"dataframe\">\n",
       "  <thead>\n",
       "    <tr style=\"text-align: right;\">\n",
       "      <th></th>\n",
       "      <th>Open</th>\n",
       "      <th>High</th>\n",
       "      <th>Low</th>\n",
       "      <th>Close</th>\n",
       "      <th>Volume</th>\n",
       "      <th>avg</th>\n",
       "    </tr>\n",
       "    <tr>\n",
       "      <th>Date</th>\n",
       "      <th></th>\n",
       "      <th></th>\n",
       "      <th></th>\n",
       "      <th></th>\n",
       "      <th></th>\n",
       "      <th></th>\n",
       "    </tr>\n",
       "  </thead>\n",
       "  <tbody>\n",
       "    <tr>\n",
       "      <th>2016-01-11</th>\n",
       "      <td>449.99</td>\n",
       "      <td>452.65</td>\n",
       "      <td>445.88</td>\n",
       "      <td>449.19</td>\n",
       "      <td>5597.637183</td>\n",
       "      <td>449.240000</td>\n",
       "    </tr>\n",
       "    <tr>\n",
       "      <th>2016-01-12</th>\n",
       "      <td>449.26</td>\n",
       "      <td>449.44</td>\n",
       "      <td>431.83</td>\n",
       "      <td>434.01</td>\n",
       "      <td>6596.945453</td>\n",
       "      <td>438.426667</td>\n",
       "    </tr>\n",
       "    <tr>\n",
       "      <th>2016-01-13</th>\n",
       "      <td>434.01</td>\n",
       "      <td>437.50</td>\n",
       "      <td>425.00</td>\n",
       "      <td>432.77</td>\n",
       "      <td>9009.150709</td>\n",
       "      <td>431.756667</td>\n",
       "    </tr>\n",
       "    <tr>\n",
       "      <th>2016-01-14</th>\n",
       "      <td>432.70</td>\n",
       "      <td>435.27</td>\n",
       "      <td>428.00</td>\n",
       "      <td>430.03</td>\n",
       "      <td>5673.632962</td>\n",
       "      <td>431.100000</td>\n",
       "    </tr>\n",
       "    <tr>\n",
       "      <th>2016-01-15</th>\n",
       "      <td>430.04</td>\n",
       "      <td>430.29</td>\n",
       "      <td>357.30</td>\n",
       "      <td>357.53</td>\n",
       "      <td>28641.673586</td>\n",
       "      <td>381.706667</td>\n",
       "    </tr>\n",
       "  </tbody>\n",
       "</table>\n",
       "</div>"
      ],
      "text/plain": [
       "              Open    High     Low   Close        Volume         avg\n",
       "Date                                                                \n",
       "2016-01-11  449.99  452.65  445.88  449.19   5597.637183  449.240000\n",
       "2016-01-12  449.26  449.44  431.83  434.01   6596.945453  438.426667\n",
       "2016-01-13  434.01  437.50  425.00  432.77   9009.150709  431.756667\n",
       "2016-01-14  432.70  435.27  428.00  430.03   5673.632962  431.100000\n",
       "2016-01-15  430.04  430.29  357.30  357.53  28641.673586  381.706667"
      ]
     },
     "execution_count": 16,
     "metadata": {},
     "output_type": "execute_result"
    }
   ],
   "source": [
    "test = test.set_index('Date',drop=True)\n",
    "test.head(5)"
   ]
  },
  {
   "cell_type": "code",
   "execution_count": 17,
   "id": "polish-cheat",
   "metadata": {
    "ExecuteTime": {
     "end_time": "2021-02-23T16:49:05.911454Z",
     "start_time": "2021-02-23T16:49:05.854033Z"
    },
    "scrolled": false
   },
   "outputs": [],
   "source": [
    "#Create my technical analysis indicators which are going to be my features\n",
    "\n",
    "x = ['Close','Volume','avg']\n",
    "t1 = 7\n",
    "t2 = 14\n",
    "for i in test[x]:\n",
    "\n",
    "    c1 = 'rtn_' + i\n",
    "    c2 = 'abs_rtn_' + i\n",
    "    test[c1] = np.log(test[i]/test[i].shift(1))\n",
    "    test[c2] = abs(np.log(test[i]/test[i].shift(1)))\n",
    "    c3 = i + '_std' + str(t1)\n",
    "    c4 = i + '_std' + str(t2) \n",
    "    test[c3] = test[i].rolling(window=t1).std()\n",
    "    test[c4] = test[i].rolling(window=t2).std()\n",
    "    \n",
    "    c5 = c2 + '_' + str(t1) + 'MA'\n",
    "    c6 = c2 + '_' + str(t2) + 'MA'\n",
    "    test[c5] = test[c2].rolling(window=t1).mean()\n",
    "    test[c6] = test[c2].rolling(window=t2).mean()\n",
    "    c7 = i + '_' + str(t1) + 'EMA'\n",
    "    c8 = i + '_' + str(t2) + 'EMA'\n",
    "    test[c7] = test[i].ewm(span=t1,adjust=True).mean()\n",
    "    test[c8] = test[i].ewm(span=t2,adjust=True).mean()\n",
    "    c9 = i + '_' + str(t1) + 'MA'\n",
    "    c10 = i + '_' + str(t2) + 'MA'\n",
    "    test[c9] = test[i].rolling(window=t1).mean()\n",
    "    test[c10] = test[i].rolling(window=t2).mean()\n",
    "    \n",
    "   \n",
    "    c11 = 'Diff_' + c8 + c7\n",
    "    test[c11] = test[c8] - test[c7]\n",
    "        #Bollinger on Close price\n",
    "    if i == 'Close' or 'avg':\n",
    "        \n",
    "        bol1 = ['BolUp'+c9,'BolDn'+c9]\n",
    "        bol2 = ['BolUp'+c10,'BolDn'+c10]\n",
    "\n",
    "        test[bol1[0]] = test[i].rolling(window=t1).mean() + (test[c2]*2.5) \n",
    "        test[bol1[1]] = test[i].rolling(window=t1).mean() - (test[c2]*2.5)\n",
    "        test[bol2[0]] = test[i].rolling(window=t2).mean() + (test[c3]*2.5)\n",
    "        test[bol2[1]] = test[i].rolling(window=t2).mean() - (test[c3]*2.5) \n"
   ]
  },
  {
   "cell_type": "code",
   "execution_count": null,
   "id": "powered-response",
   "metadata": {},
   "outputs": [],
   "source": []
  },
  {
   "cell_type": "code",
   "execution_count": 18,
   "id": "exciting-making",
   "metadata": {
    "ExecuteTime": {
     "end_time": "2021-02-23T16:49:05.924414Z",
     "start_time": "2021-02-23T16:49:05.912504Z"
    }
   },
   "outputs": [],
   "source": [
    "#Create the RSI, Relative Strength Indicator \n",
    "\n",
    "rsi_period = 14\n",
    "rsi = pd.DataFrame(test['Close'],index=test.index)\n",
    "rsi['rtn'] = rsi['Close'].diff(periods=1)\n",
    "rsi['po_rtn'] = [x if x > 0 else 0 for x in rsi['rtn']]\n",
    "rsi['neg_rtn'] = [x if x < 0 else 0 for x in rsi['rtn']]\n",
    "#rsi = rsi.iloc[1:,:]\n",
    "rsi['RS'] = rsi['po_rtn'].ewm(span=rsi_period).mean()/rsi['neg_rtn'].abs().ewm(span=rsi_period).mean()\n",
    "rsi['rsi'] = 100-(100/(1+rsi['RS']))"
   ]
  },
  {
   "cell_type": "code",
   "execution_count": 19,
   "id": "magnetic-guinea",
   "metadata": {
    "ExecuteTime": {
     "end_time": "2021-02-23T16:49:05.933109Z",
     "start_time": "2021-02-23T16:49:05.925412Z"
    }
   },
   "outputs": [],
   "source": [
    "test['RSI_Close'] = rsi['rsi']"
   ]
  },
  {
   "cell_type": "code",
   "execution_count": 21,
   "id": "molecular-canada",
   "metadata": {
    "ExecuteTime": {
     "end_time": "2021-02-23T16:49:08.519310Z",
     "start_time": "2021-02-23T16:49:08.510746Z"
    }
   },
   "outputs": [],
   "source": [
    "#Volume indicator\n",
    "test['Volume_ratio'] = test['Volume'] / test['Volume_7MA']\n",
    "\n",
    "#Features to locate the price divergence from the bollinger bands\n",
    "test['Close_MAs_ratio'] = test['Close_14MA'] / test['Close_7MA']\n",
    "test['DnBol_Dist_14'] = test['Close'] - test['BolDnClose_14MA']\n",
    "test['UpBol_Dist_14'] = test['Close'] - test['BolUpClose_14MA']\n",
    "test['Dist_BolDn_BolUp'] = test['BolUpClose_14MA'] - test['BolDnClose_14MA']"
   ]
  },
  {
   "cell_type": "code",
   "execution_count": 22,
   "id": "mineral-radiation",
   "metadata": {
    "ExecuteTime": {
     "end_time": "2021-02-23T16:49:08.721207Z",
     "start_time": "2021-02-23T16:49:08.700826Z"
    }
   },
   "outputs": [],
   "source": [
    "#Average true range calculation, volatility indicator\n",
    "\n",
    "t3 = 14  #the standard period for daily chart\n",
    "ATR = pd.DataFrame()\n",
    "ATR['HighLow'] = test['High'] - test['Low']\n",
    "ATR['High_Close-1'] = abs(test['High'] - test['Close'].shift(-1))\n",
    "ATR['Low_Close-1'] = abs(test['Low'] - test['Close'].shift(-1))\n",
    "ATR['True_Range'] = ATR.max(axis=1)\n",
    "ATR['ATR'] = ATR['True_Range'].rolling(window=t3).mean()"
   ]
  },
  {
   "cell_type": "code",
   "execution_count": 23,
   "id": "small-patio",
   "metadata": {
    "ExecuteTime": {
     "end_time": "2021-02-23T16:49:08.839163Z",
     "start_time": "2021-02-23T16:49:08.835146Z"
    }
   },
   "outputs": [],
   "source": [
    "test['ATR'] = ATR['ATR']"
   ]
  },
  {
   "cell_type": "code",
   "execution_count": 26,
   "id": "efficient-surface",
   "metadata": {
    "ExecuteTime": {
     "end_time": "2021-02-23T16:49:09.566660Z",
     "start_time": "2021-02-23T16:49:09.563666Z"
    }
   },
   "outputs": [],
   "source": [
    "#test = pd.read_csv('data-eth-15min.csv')\n",
    "#test = test.set_index(pd.to_datetime(test['Date']))"
   ]
  },
  {
   "cell_type": "code",
   "execution_count": 27,
   "id": "ethical-keyboard",
   "metadata": {
    "ExecuteTime": {
     "end_time": "2021-02-23T16:49:22.914023Z",
     "start_time": "2021-02-23T16:49:22.904283Z"
    },
    "scrolled": true
   },
   "outputs": [
    {
     "data": {
      "text/html": [
       "<div>\n",
       "<style scoped>\n",
       "    .dataframe tbody tr th:only-of-type {\n",
       "        vertical-align: middle;\n",
       "    }\n",
       "\n",
       "    .dataframe tbody tr th {\n",
       "        vertical-align: top;\n",
       "    }\n",
       "\n",
       "    .dataframe thead th {\n",
       "        text-align: right;\n",
       "    }\n",
       "</style>\n",
       "<table border=\"1\" class=\"dataframe\">\n",
       "  <thead>\n",
       "    <tr style=\"text-align: right;\">\n",
       "      <th></th>\n",
       "      <th>Close</th>\n",
       "    </tr>\n",
       "    <tr>\n",
       "      <th>Date</th>\n",
       "      <th></th>\n",
       "    </tr>\n",
       "  </thead>\n",
       "  <tbody>\n",
       "    <tr>\n",
       "      <th>2016-01-11</th>\n",
       "      <td>449.19</td>\n",
       "    </tr>\n",
       "    <tr>\n",
       "      <th>2016-01-12</th>\n",
       "      <td>434.01</td>\n",
       "    </tr>\n",
       "    <tr>\n",
       "      <th>2016-01-13</th>\n",
       "      <td>432.77</td>\n",
       "    </tr>\n",
       "    <tr>\n",
       "      <th>2016-01-14</th>\n",
       "      <td>430.03</td>\n",
       "    </tr>\n",
       "    <tr>\n",
       "      <th>2016-01-15</th>\n",
       "      <td>357.53</td>\n",
       "    </tr>\n",
       "  </tbody>\n",
       "</table>\n",
       "</div>"
      ],
      "text/plain": [
       "             Close\n",
       "Date              \n",
       "2016-01-11  449.19\n",
       "2016-01-12  434.01\n",
       "2016-01-13  432.77\n",
       "2016-01-14  430.03\n",
       "2016-01-15  357.53"
      ]
     },
     "execution_count": 27,
     "metadata": {},
     "output_type": "execute_result"
    }
   ],
   "source": [
    "support = pd.DataFrame(test['Close'])\n",
    "support.head()"
   ]
  },
  {
   "cell_type": "code",
   "execution_count": 33,
   "id": "dramatic-mention",
   "metadata": {
    "ExecuteTime": {
     "end_time": "2021-02-23T16:49:50.638765Z",
     "start_time": "2021-02-23T16:49:49.996915Z"
    },
    "scrolled": false
   },
   "outputs": [
    {
     "data": {
      "image/png": "[encoded data removed]",
      "text/plain": [
       "<Figure size 576x576 with 1 Axes>"
      ]
     },
     "metadata": {
      "needs_background": "light"
     },
     "output_type": "display_data"
    }
   ],
   "source": [
    "fig, ax = plt.subplots(figsize=(8,8))\n",
    "test['abs_rtn_avg'].hist(bins=500)\n",
    "plt.xlim(0,0.1)\n",
    "plt.show()"
   ]
  },
  {
   "cell_type": "code",
   "execution_count": 34,
   "id": "tribal-handle",
   "metadata": {
    "ExecuteTime": {
     "end_time": "2021-02-23T16:49:51.274844Z",
     "start_time": "2021-02-23T16:49:50.797103Z"
    },
    "scrolled": false
   },
   "outputs": [
    {
     "data": {
      "image/png": "[encoded data removed]",
      "text/plain": [
       "<Figure size 576x576 with 1 Axes>"
      ]
     },
     "metadata": {
      "needs_background": "light"
     },
     "output_type": "display_data"
    }
   ],
   "source": [
    "fig, ax = plt.subplots(figsize=(8,8))\n",
    "test['Close'].pct_change(periods=1).hist(bins=300)\n",
    "plt.xlim(-0.10,0.10)\n",
    "plt.show()"
   ]
  },
  {
   "cell_type": "code",
   "execution_count": 35,
   "id": "exact-scholar",
   "metadata": {
    "ExecuteTime": {
     "end_time": "2021-02-23T16:49:54.846859Z",
     "start_time": "2021-02-23T16:49:53.309154Z"
    },
    "scrolled": false
   },
   "outputs": [
    {
     "data": {
      "image/png": "[encoded data removed]",
      "text/plain": [
       "<Figure size 1080x720 with 4 Axes>"
      ]
     },
     "metadata": {
      "needs_background": "light"
     },
     "output_type": "display_data"
    }
   ],
   "source": [
    "fig, ax = plt.subplots(nrows=2,ncols=2,figsize=(15,10))\n",
    "test.resample('D').mean()['Close'].pct_change(periods=1).hist(bins=250,ax=ax[0,0])\n",
    "test.resample('D').median()['Close'].pct_change(periods=1).hist(bins=250,ax=ax[0,1])\n",
    "test.resample('D').max()['Close'].pct_change(periods=1).hist(bins=250,ax=ax[1,0])\n",
    "test.resample('D').min()['Close'].pct_change(periods=1).hist(bins=250,ax=ax[1,1])\n",
    "ax[0,0].set_title('Mean hourly return')\n",
    "ax[0,1].set_title('Median hourly return')\n",
    "ax[1,0].set_title('Max hourly return')\n",
    "ax[1,1].set_title('Min hourly return')\n",
    "ax[0,0].set_xlim(-0.10,0.10)\n",
    "ax[0,1].set_xlim(-0.10,0.10)\n",
    "ax[1,0].set_xlim(-0.10,0.10)\n",
    "ax[1,1].set_xlim(-0.10,0.10)\n",
    "plt.show()"
   ]
  },
  {
   "cell_type": "code",
   "execution_count": 36,
   "id": "opposed-honey",
   "metadata": {
    "ExecuteTime": {
     "end_time": "2021-02-23T16:50:06.266547Z",
     "start_time": "2021-02-23T16:50:06.261558Z"
    }
   },
   "outputs": [],
   "source": [
    "#Create my target variable: \n",
    "# return for the next 30min (15min data),\n",
    "# return for the next 4h (hourly data), \n",
    "# return the next 2d (daily data),\n",
    "# Then make a column that says if the return is positive or negative (flat return included) .\n",
    "test['Return_4d'] = test['Close'].pct_change(4).shift(-5)"
   ]
  },
  {
   "cell_type": "code",
   "execution_count": 38,
   "id": "organizational-inside",
   "metadata": {
    "ExecuteTime": {
     "end_time": "2021-02-23T17:02:27.222572Z",
     "start_time": "2021-02-23T17:02:27.208609Z"
    },
    "scrolled": true
   },
   "outputs": [
    {
     "data": {
      "text/html": [
       "<div>\n",
       "<style scoped>\n",
       "    .dataframe tbody tr th:only-of-type {\n",
       "        vertical-align: middle;\n",
       "    }\n",
       "\n",
       "    .dataframe tbody tr th {\n",
       "        vertical-align: top;\n",
       "    }\n",
       "\n",
       "    .dataframe thead th {\n",
       "        text-align: right;\n",
       "    }\n",
       "</style>\n",
       "<table border=\"1\" class=\"dataframe\">\n",
       "  <thead>\n",
       "    <tr style=\"text-align: right;\">\n",
       "      <th></th>\n",
       "      <th>Close</th>\n",
       "      <th>Return_4d</th>\n",
       "    </tr>\n",
       "    <tr>\n",
       "      <th>Date</th>\n",
       "      <th></th>\n",
       "      <th></th>\n",
       "    </tr>\n",
       "  </thead>\n",
       "  <tbody>\n",
       "    <tr>\n",
       "      <th>2016-01-11</th>\n",
       "      <td>449.19</td>\n",
       "      <td>-0.104399</td>\n",
       "    </tr>\n",
       "    <tr>\n",
       "      <th>2016-01-12</th>\n",
       "      <td>434.01</td>\n",
       "      <td>-0.125494</td>\n",
       "    </tr>\n",
       "    <tr>\n",
       "      <th>2016-01-13</th>\n",
       "      <td>432.77</td>\n",
       "      <td>-0.104969</td>\n",
       "    </tr>\n",
       "    <tr>\n",
       "      <th>2016-01-14</th>\n",
       "      <td>430.03</td>\n",
       "      <td>0.049618</td>\n",
       "    </tr>\n",
       "    <tr>\n",
       "      <th>2016-01-15</th>\n",
       "      <td>357.53</td>\n",
       "      <td>0.076769</td>\n",
       "    </tr>\n",
       "    <tr>\n",
       "      <th>2016-01-16</th>\n",
       "      <td>388.70</td>\n",
       "      <td>0.081700</td>\n",
       "    </tr>\n",
       "    <tr>\n",
       "      <th>2016-01-17</th>\n",
       "      <td>378.46</td>\n",
       "      <td>-0.005170</td>\n",
       "    </tr>\n",
       "    <tr>\n",
       "      <th>2016-01-18</th>\n",
       "      <td>384.89</td>\n",
       "      <td>0.032590</td>\n",
       "    </tr>\n",
       "    <tr>\n",
       "      <th>2016-01-19</th>\n",
       "      <td>375.27</td>\n",
       "      <td>-0.037010</td>\n",
       "    </tr>\n",
       "    <tr>\n",
       "      <th>2016-01-20</th>\n",
       "      <td>418.54</td>\n",
       "      <td>-0.043920</td>\n",
       "    </tr>\n",
       "    <tr>\n",
       "      <th>2016-01-21</th>\n",
       "      <td>409.38</td>\n",
       "      <td>0.022565</td>\n",
       "    </tr>\n",
       "    <tr>\n",
       "      <th>2016-01-22</th>\n",
       "      <td>382.90</td>\n",
       "      <td>0.018813</td>\n",
       "    </tr>\n",
       "    <tr>\n",
       "      <th>2016-01-23</th>\n",
       "      <td>387.50</td>\n",
       "      <td>-0.058157</td>\n",
       "    </tr>\n",
       "    <tr>\n",
       "      <th>2016-01-24</th>\n",
       "      <td>403.05</td>\n",
       "      <td>-0.032499</td>\n",
       "    </tr>\n",
       "    <tr>\n",
       "      <th>2016-01-25</th>\n",
       "      <td>391.40</td>\n",
       "      <td>-0.033407</td>\n",
       "    </tr>\n",
       "  </tbody>\n",
       "</table>\n",
       "</div>"
      ],
      "text/plain": [
       "             Close  Return_4d\n",
       "Date                         \n",
       "2016-01-11  449.19  -0.104399\n",
       "2016-01-12  434.01  -0.125494\n",
       "2016-01-13  432.77  -0.104969\n",
       "2016-01-14  430.03   0.049618\n",
       "2016-01-15  357.53   0.076769\n",
       "2016-01-16  388.70   0.081700\n",
       "2016-01-17  378.46  -0.005170\n",
       "2016-01-18  384.89   0.032590\n",
       "2016-01-19  375.27  -0.037010\n",
       "2016-01-20  418.54  -0.043920\n",
       "2016-01-21  409.38   0.022565\n",
       "2016-01-22  382.90   0.018813\n",
       "2016-01-23  387.50  -0.058157\n",
       "2016-01-24  403.05  -0.032499\n",
       "2016-01-25  391.40  -0.033407"
      ]
     },
     "execution_count": 38,
     "metadata": {},
     "output_type": "execute_result"
    }
   ],
   "source": [
    "test[['Close','Return_4d']].head(5)"
   ]
  },
  {
   "cell_type": "code",
   "execution_count": 193,
   "id": "likely-toyota",
   "metadata": {
    "ExecuteTime": {
     "end_time": "2021-02-22T23:10:33.411976Z",
     "start_time": "2021-02-22T23:10:33.402973Z"
    }
   },
   "outputs": [
    {
     "data": {
      "text/plain": [
       "count    1837.000000\n",
       "mean        0.012741\n",
       "std         0.080368\n",
       "min        -0.395715\n",
       "25%        -0.024452\n",
       "50%         0.008620\n",
       "75%         0.051109\n",
       "max         0.540302\n",
       "Name: Return_4d, dtype: float64"
      ]
     },
     "execution_count": 193,
     "metadata": {},
     "output_type": "execute_result"
    }
   ],
   "source": [
    "test['Return_4d'].describe()"
   ]
  },
  {
   "cell_type": "code",
   "execution_count": 194,
   "id": "headed-client",
   "metadata": {
    "ExecuteTime": {
     "end_time": "2021-02-22T23:10:34.335851Z",
     "start_time": "2021-02-22T23:10:33.550929Z"
    },
    "scrolled": false
   },
   "outputs": [
    {
     "data": {
      "image/png": "[encoded data removed]",
      "text/plain": [
       "<Figure size 576x576 with 1 Axes>"
      ]
     },
     "metadata": {
      "needs_background": "light"
     },
     "output_type": "display_data"
    }
   ],
   "source": [
    "fig, ax = plt.subplots(figsize=(8,8))\n",
    "test['Return_4d'].hist(bins=500)\n",
    "plt.xlim(-0.1003,0.1003)\n",
    "plt.show()"
   ]
  },
  {
   "cell_type": "code",
   "execution_count": 195,
   "id": "fifteen-ladder",
   "metadata": {
    "ExecuteTime": {
     "end_time": "2021-02-22T23:10:34.342806Z",
     "start_time": "2021-02-22T23:10:34.336822Z"
    },
    "scrolled": true
   },
   "outputs": [
    {
     "data": {
      "text/plain": [
       "Date\n",
       "2016-08-08 01:00:00    0.0\n",
       "Name: Return_4d, dtype: float64"
      ]
     },
     "execution_count": 195,
     "metadata": {},
     "output_type": "execute_result"
    }
   ],
   "source": [
    "test[test['Return_4d'] == 0.000000].loc[:,'Return_4d']"
   ]
  },
  {
   "cell_type": "code",
   "execution_count": 196,
   "id": "limiting-rebate",
   "metadata": {
    "ExecuteTime": {
     "end_time": "2021-02-22T23:10:37.991873Z",
     "start_time": "2021-02-22T23:10:37.985889Z"
    }
   },
   "outputs": [],
   "source": [
    "test['BuyorSell'] = [-1 if x <= 0 else 1 for x in test['Return_4d']]"
   ]
  },
  {
   "cell_type": "code",
   "execution_count": null,
   "id": "minute-polyester",
   "metadata": {
    "ExecuteTime": {
     "end_time": "2021-02-14T23:21:19.939532Z",
     "start_time": "2021-02-14T23:21:19.934547Z"
    }
   },
   "outputs": [],
   "source": []
  },
  {
   "cell_type": "code",
   "execution_count": 197,
   "id": "victorian-projection",
   "metadata": {
    "ExecuteTime": {
     "end_time": "2021-02-22T23:10:39.730073Z",
     "start_time": "2021-02-22T23:10:39.724090Z"
    },
    "scrolled": true
   },
   "outputs": [
    {
     "data": {
      "text/plain": [
       " 1    0.571661\n",
       "-1    0.428339\n",
       "Name: BuyorSell, dtype: float64"
      ]
     },
     "execution_count": 197,
     "metadata": {},
     "output_type": "execute_result"
    }
   ],
   "source": [
    "# I am including the flat return to the positive return target variable in the model notebook.\n",
    "test['BuyorSell'].value_counts(normalize=True)"
   ]
  },
  {
   "cell_type": "code",
   "execution_count": 198,
   "id": "healthy-directive",
   "metadata": {
    "ExecuteTime": {
     "end_time": "2021-02-22T23:10:44.593937Z",
     "start_time": "2021-02-22T23:10:44.450166Z"
    }
   },
   "outputs": [],
   "source": [
    "#Saving the finale data\n",
    "test.to_csv('data-btc-daily.csv')"
   ]
  },
  {
   "cell_type": "code",
   "execution_count": null,
   "id": "single-joshua",
   "metadata": {},
   "outputs": [],
   "source": []
  }
 ],
 "metadata": {
  "kernelspec": {
   "display_name": "Python 3",
   "language": "python",
   "name": "python3"
  },
  "language_info": {
   "codemirror_mode": {
    "name": "ipython",
    "version": 3
   },
   "file_extension": ".py",
   "mimetype": "text/x-python",
   "name": "python",
   "nbconvert_exporter": "python",
   "pygments_lexer": "ipython3",
   "version": "3.7.9"
  }
 },
 "nbformat": 4,
 "nbformat_minor": 5
}
