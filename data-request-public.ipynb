{
 "cells": [
  {
   "cell_type": "code",
   "execution_count": 207,
   "id": "appointed-explorer",
   "metadata": {
    "ExecuteTime": {
     "end_time": "2021-02-14T01:20:08.525144Z",
     "start_time": "2021-02-14T01:20:08.521154Z"
    }
   },
   "outputs": [],
   "source": [
    "import cbpro\n",
    "import time\n",
    "import pandas as pd\n",
    "import numpy as np\n",
    "import matplotlib.pyplot as plt\n",
    "import seaborn as sns\n",
    "import requests\n",
    "import arrow\n",
    "from requests.auth import AuthBase\n",
    "import plotly.graph_objs as go"
   ]
  },
  {
   "cell_type": "code",
   "execution_count": 3,
   "id": "passive-spank",
   "metadata": {
    "ExecuteTime": {
     "end_time": "2021-02-13T18:02:32.942447Z",
     "start_time": "2021-02-13T18:02:32.932473Z"
    }
   },
   "outputs": [],
   "source": [
    "api_url = 'https://api.pro.coinbase.com/'\n",
    "auth = cbpro.AuthenticatedClient(username,\n",
    "                            secretkey,\n",
    "                            key,api_url)"
   ]
  },
  {
   "cell_type": "code",
   "execution_count": 1,
   "id": "neutral-teach",
   "metadata": {
    "ExecuteTime": {
     "end_time": "2021-02-19T19:06:03.389890Z",
     "start_time": "2021-02-19T19:06:03.314114Z"
    },
    "scrolled": true
   },
   "outputs": [
    {
     "ename": "NameError",
     "evalue": "name 'arrow' is not defined",
     "output_type": "error",
     "traceback": [
      "\u001b[1;31m---------------------------------------------------------------------------\u001b[0m",
      "\u001b[1;31mNameError\u001b[0m                                 Traceback (most recent call last)",
      "\u001b[1;32m<ipython-input-1-996d03bd6ace>\u001b[0m in \u001b[0;36m<module>\u001b[1;34m\u001b[0m\n\u001b[1;32m----> 1\u001b[1;33m \u001b[0md_end\u001b[0m \u001b[1;33m=\u001b[0m \u001b[0marrow\u001b[0m\u001b[1;33m.\u001b[0m\u001b[0mget\u001b[0m\u001b[1;33m(\u001b[0m\u001b[1;34m'2021-01-25'\u001b[0m\u001b[1;33m)\u001b[0m\u001b[1;33m\u001b[0m\u001b[1;33m\u001b[0m\u001b[0m\n\u001b[0m\u001b[0;32m      2\u001b[0m \u001b[0md_end_date\u001b[0m \u001b[1;33m=\u001b[0m \u001b[0md_end\u001b[0m\u001b[1;33m.\u001b[0m\u001b[0mformat\u001b[0m\u001b[1;33m(\u001b[0m\u001b[1;34m'YYYY-MM-DD'\u001b[0m\u001b[1;33m)\u001b[0m\u001b[1;33m\u001b[0m\u001b[1;33m\u001b[0m\u001b[0m\n\u001b[0;32m      3\u001b[0m \u001b[0md_start\u001b[0m \u001b[1;33m=\u001b[0m \u001b[0marrow\u001b[0m\u001b[1;33m.\u001b[0m\u001b[0mget\u001b[0m\u001b[1;33m(\u001b[0m\u001b[1;34m'2021-01-15'\u001b[0m\u001b[1;33m)\u001b[0m\u001b[1;33m\u001b[0m\u001b[1;33m\u001b[0m\u001b[0m\n\u001b[0;32m      4\u001b[0m \u001b[0md_start_date\u001b[0m \u001b[1;33m=\u001b[0m \u001b[0md_start\u001b[0m\u001b[1;33m.\u001b[0m\u001b[0mformat\u001b[0m\u001b[1;33m(\u001b[0m\u001b[1;34m'YYYY-MM-DD'\u001b[0m\u001b[1;33m)\u001b[0m\u001b[1;33m\u001b[0m\u001b[1;33m\u001b[0m\u001b[0m\n\u001b[0;32m      5\u001b[0m \u001b[0md_limit\u001b[0m \u001b[1;33m=\u001b[0m \u001b[0marrow\u001b[0m\u001b[1;33m.\u001b[0m\u001b[0mget\u001b[0m\u001b[1;33m(\u001b[0m\u001b[1;34m'2016-01-01'\u001b[0m\u001b[1;33m)\u001b[0m\u001b[1;33m\u001b[0m\u001b[1;33m\u001b[0m\u001b[0m\n",
      "\u001b[1;31mNameError\u001b[0m: name 'arrow' is not defined"
     ]
    }
   ],
   "source": [
    "d_end = arrow.get('2021-01-25')\n",
    "d_end_date = d_end.format('YYYY-MM-DD')\n",
    "d_start = arrow.get('2021-01-15')\n",
    "d_start_date = d_start.format('YYYY-MM-DD')\n",
    "d_limit = arrow.get('2016-01-01')\n",
    "d_limit_date = arrow.get('2016-01-01').format('YYYY-MM-DD')\n",
    "full_data = []\n",
    "#x = 3600\n",
    "while d_start.timestamp > d_limit.timestamp:    \n",
    "\n",
    "    x = 3600*24\n",
    "    data = auth.get_product_historic_rates('ETH-USD',start=d_start_date,end=d_end_date,granularity=x)\n",
    "    #time.sleep(2)\n",
    "    if type(data) != dict:\n",
    "        full_data.append(data)\n",
    "        #print(full_data)\n",
    "        d_start = arrow.get(full_data[-1][-1][0]-(230*x))\n",
    "        #print(data[-1][0])\n",
    "        d_start_date = arrow.Arrow.fromtimestamp(full_data[-1][-1][0]-(230*x)).format('YYYY-MM-DD')\n",
    "        d_end_date = arrow.Arrow.fromtimestamp(full_data[-1][-1][0]).format('YYYY-MM-DD')\n",
    "        #print(d_start_date,'if')\n",
    "    else:\n",
    "        d_start = arrow.get(full_data[-1][-1][0]-(230*x))\n",
    "        #print(data[-2][-1][0])\n",
    "        d_start_date = arrow.Arrow.fromtimestamp(full_data[-1][-1][0]-(230*x)).format('YYYY-MM-DD')\n",
    "        d_end_date = arrow.Arrow.fromtimestamp(full_data[-1][-1][0]).format('YYYY-MM-DD')\n",
    "        #print(d_start_date,'else')\n",
    "    d_start = d_start\n",
    "    d_start_date = d_start_date\n",
    "    d_end_date = d_end_date\n",
    "    \n",
    "    "
   ]
  },
  {
   "cell_type": "code",
   "execution_count": 258,
   "id": "sixth-chest",
   "metadata": {
    "ExecuteTime": {
     "end_time": "2021-02-14T01:33:49.883364Z",
     "start_time": "2021-02-14T01:33:49.878404Z"
    }
   },
   "outputs": [
    {
     "data": {
      "text/plain": [
       "'2018-09-19 01:00'"
      ]
     },
     "execution_count": 258,
     "metadata": {},
     "output_type": "execute_result"
    }
   ],
   "source": [
    "arrow.Arrow.fromtimestamp(1537315200).format('YYYY-MM-DD HH:mm')"
   ]
  },
  {
   "cell_type": "code",
   "execution_count": 259,
   "id": "becoming-given",
   "metadata": {
    "ExecuteTime": {
     "end_time": "2021-02-14T01:33:50.186279Z",
     "start_time": "2021-02-14T01:33:50.182289Z"
    }
   },
   "outputs": [],
   "source": [
    "#As the outcome from the api request is a list of a list with the loop, I am creating just a list of the total\n",
    "# requested data\n",
    "clean = []\n",
    "for i in full_data:\n",
    "    for j in i:\n",
    "        clean.append(j)"
   ]
  },
  {
   "cell_type": "code",
   "execution_count": 260,
   "id": "important-shadow",
   "metadata": {
    "ExecuteTime": {
     "end_time": "2021-02-14T01:33:50.644427Z",
     "start_time": "2021-02-14T01:33:50.627472Z"
    }
   },
   "outputs": [],
   "source": [
    "pd.DataFrame(clean,columns=['time','low','high','open','close','volume']).to_csv('ETHDaily.csv',index=False)"
   ]
  },
  {
   "cell_type": "code",
   "execution_count": 261,
   "id": "supreme-reflection",
   "metadata": {
    "ExecuteTime": {
     "end_time": "2021-02-14T01:33:51.463582Z",
     "start_time": "2021-02-14T01:33:51.455604Z"
    }
   },
   "outputs": [],
   "source": [
    "df = pd.read_csv('ETHDaily.csv')\n",
    "#df.drop('Unnamed: 0',axis=1,inplace=True)"
   ]
  },
  {
   "cell_type": "code",
   "execution_count": 262,
   "id": "instrumental-twist",
   "metadata": {
    "ExecuteTime": {
     "end_time": "2021-02-14T01:33:51.911071Z",
     "start_time": "2021-02-14T01:33:51.908078Z"
    }
   },
   "outputs": [],
   "source": [
    "#df['Date'] = [arrow.Arrow.fromtimestamp(date).format('YYYY-MM-DD HH:mm') for date in df['time']]"
   ]
  },
  {
   "cell_type": "code",
   "execution_count": 263,
   "id": "strategic-grammar",
   "metadata": {
    "ExecuteTime": {
     "end_time": "2021-02-14T01:33:52.127100Z",
     "start_time": "2021-02-14T01:33:52.120092Z"
    }
   },
   "outputs": [],
   "source": [
    "df.drop_duplicates(inplace=True)"
   ]
  },
  {
   "cell_type": "code",
   "execution_count": 264,
   "id": "tribal-meter",
   "metadata": {
    "ExecuteTime": {
     "end_time": "2021-02-14T01:33:52.349105Z",
     "start_time": "2021-02-14T01:33:52.338135Z"
    }
   },
   "outputs": [
    {
     "data": {
      "text/html": [
       "<div>\n",
       "<style scoped>\n",
       "    .dataframe tbody tr th:only-of-type {\n",
       "        vertical-align: middle;\n",
       "    }\n",
       "\n",
       "    .dataframe tbody tr th {\n",
       "        vertical-align: top;\n",
       "    }\n",
       "\n",
       "    .dataframe thead th {\n",
       "        text-align: right;\n",
       "    }\n",
       "</style>\n",
       "<table border=\"1\" class=\"dataframe\">\n",
       "  <thead>\n",
       "    <tr style=\"text-align: right;\">\n",
       "      <th></th>\n",
       "      <th>time</th>\n",
       "      <th>low</th>\n",
       "      <th>high</th>\n",
       "      <th>open</th>\n",
       "      <th>close</th>\n",
       "      <th>volume</th>\n",
       "    </tr>\n",
       "  </thead>\n",
       "  <tbody>\n",
       "    <tr>\n",
       "      <th>0</th>\n",
       "      <td>1611532800</td>\n",
       "      <td>1293.65</td>\n",
       "      <td>1477.30</td>\n",
       "      <td>1394.04</td>\n",
       "      <td>1317.97</td>\n",
       "      <td>627535.527937</td>\n",
       "    </tr>\n",
       "    <tr>\n",
       "      <th>1</th>\n",
       "      <td>1611446400</td>\n",
       "      <td>1221.66</td>\n",
       "      <td>1401.92</td>\n",
       "      <td>1234.47</td>\n",
       "      <td>1394.00</td>\n",
       "      <td>434746.405089</td>\n",
       "    </tr>\n",
       "    <tr>\n",
       "      <th>2</th>\n",
       "      <td>1611360000</td>\n",
       "      <td>1196.74</td>\n",
       "      <td>1272.00</td>\n",
       "      <td>1233.42</td>\n",
       "      <td>1234.55</td>\n",
       "      <td>269855.020808</td>\n",
       "    </tr>\n",
       "    <tr>\n",
       "      <th>3</th>\n",
       "      <td>1611273600</td>\n",
       "      <td>1039.62</td>\n",
       "      <td>1275.99</td>\n",
       "      <td>1110.61</td>\n",
       "      <td>1233.60</td>\n",
       "      <td>758560.995474</td>\n",
       "    </tr>\n",
       "    <tr>\n",
       "      <th>4</th>\n",
       "      <td>1611187200</td>\n",
       "      <td>1081.00</td>\n",
       "      <td>1390.00</td>\n",
       "      <td>1377.15</td>\n",
       "      <td>1110.62</td>\n",
       "      <td>789194.344680</td>\n",
       "    </tr>\n",
       "  </tbody>\n",
       "</table>\n",
       "</div>"
      ],
      "text/plain": [
       "         time      low     high     open    close         volume\n",
       "0  1611532800  1293.65  1477.30  1394.04  1317.97  627535.527937\n",
       "1  1611446400  1221.66  1401.92  1234.47  1394.00  434746.405089\n",
       "2  1611360000  1196.74  1272.00  1233.42  1234.55  269855.020808\n",
       "3  1611273600  1039.62  1275.99  1110.61  1233.60  758560.995474\n",
       "4  1611187200  1081.00  1390.00  1377.15  1110.62  789194.344680"
      ]
     },
     "execution_count": 264,
     "metadata": {},
     "output_type": "execute_result"
    }
   ],
   "source": [
    "df.head()"
   ]
  },
  {
   "cell_type": "code",
   "execution_count": 265,
   "id": "recent-citation",
   "metadata": {
    "ExecuteTime": {
     "end_time": "2021-02-14T01:33:52.520812Z",
     "start_time": "2021-02-14T01:33:52.517826Z"
    }
   },
   "outputs": [],
   "source": [
    "df['check'] = df.time.diff(periods=1)"
   ]
  },
  {
   "cell_type": "code",
   "execution_count": 268,
   "id": "amber-corps",
   "metadata": {
    "ExecuteTime": {
     "end_time": "2021-02-14T01:33:56.061640Z",
     "start_time": "2021-02-14T01:33:56.049645Z"
    },
    "scrolled": true
   },
   "outputs": [
    {
     "data": {
      "text/html": [
       "<div>\n",
       "<style scoped>\n",
       "    .dataframe tbody tr th:only-of-type {\n",
       "        vertical-align: middle;\n",
       "    }\n",
       "\n",
       "    .dataframe tbody tr th {\n",
       "        vertical-align: top;\n",
       "    }\n",
       "\n",
       "    .dataframe thead th {\n",
       "        text-align: right;\n",
       "    }\n",
       "</style>\n",
       "<table border=\"1\" class=\"dataframe\">\n",
       "  <thead>\n",
       "    <tr style=\"text-align: right;\">\n",
       "      <th></th>\n",
       "      <th>time</th>\n",
       "      <th>low</th>\n",
       "      <th>high</th>\n",
       "      <th>open</th>\n",
       "      <th>close</th>\n",
       "      <th>volume</th>\n",
       "      <th>check</th>\n",
       "    </tr>\n",
       "  </thead>\n",
       "  <tbody>\n",
       "    <tr>\n",
       "      <th>0</th>\n",
       "      <td>1611532800</td>\n",
       "      <td>1293.65</td>\n",
       "      <td>1477.30</td>\n",
       "      <td>1394.04</td>\n",
       "      <td>1317.97</td>\n",
       "      <td>627535.527937</td>\n",
       "      <td>NaN</td>\n",
       "    </tr>\n",
       "    <tr>\n",
       "      <th>1717</th>\n",
       "      <td>1463702400</td>\n",
       "      <td>13.71</td>\n",
       "      <td>14.82</td>\n",
       "      <td>14.82</td>\n",
       "      <td>14.17</td>\n",
       "      <td>254.166617</td>\n",
       "      <td>-259200.0</td>\n",
       "    </tr>\n",
       "  </tbody>\n",
       "</table>\n",
       "</div>"
      ],
      "text/plain": [
       "            time      low     high     open    close         volume     check\n",
       "0     1611532800  1293.65  1477.30  1394.04  1317.97  627535.527937       NaN\n",
       "1717  1463702400    13.71    14.82    14.82    14.17     254.166617 -259200.0"
      ]
     },
     "execution_count": 268,
     "metadata": {},
     "output_type": "execute_result"
    }
   ],
   "source": [
    "#check if there is any daily, hourly or 15min data missing where the timestamp diff \n",
    "#is more than the wanted interval (daily,hourly,15min..etc)\n",
    "df[df['check'] != -3600*24]"
   ]
  },
  {
   "cell_type": "code",
   "execution_count": 220,
   "id": "vulnerable-martin",
   "metadata": {
    "ExecuteTime": {
     "end_time": "2021-02-14T01:29:53.416072Z",
     "start_time": "2021-02-14T01:29:53.413080Z"
    }
   },
   "outputs": [],
   "source": [
    "#df['new_time'] = [(df.time[0]-(900*i)) for i in range(0,len(df.time),1)]"
   ]
  },
  {
   "cell_type": "code",
   "execution_count": 277,
   "id": "defensive-daisy",
   "metadata": {
    "ExecuteTime": {
     "end_time": "2021-02-14T01:35:54.312536Z",
     "start_time": "2021-02-14T01:35:54.308518Z"
    }
   },
   "outputs": [],
   "source": [
    "#create the correct timestamp part1\n",
    "timestamp = int((df['time'][0] - df['time'][-1:])/(3600*24))"
   ]
  },
  {
   "cell_type": "code",
   "execution_count": 278,
   "id": "educational-canon",
   "metadata": {
    "ExecuteTime": {
     "end_time": "2021-02-14T01:35:55.141343Z",
     "start_time": "2021-02-14T01:35:55.135360Z"
    }
   },
   "outputs": [
    {
     "data": {
      "text/plain": [
       "1719    1463529600\n",
       "Name: time, dtype: int64"
      ]
     },
     "execution_count": 278,
     "metadata": {},
     "output_type": "execute_result"
    }
   ],
   "source": [
    "df['time'][-1:]"
   ]
  },
  {
   "cell_type": "code",
   "execution_count": 279,
   "id": "approved-volleyball",
   "metadata": {
    "ExecuteTime": {
     "end_time": "2021-02-14T01:35:55.683518Z",
     "start_time": "2021-02-14T01:35:55.665536Z"
    }
   },
   "outputs": [],
   "source": [
    "#create the correct timestamp part2\n",
    "timestamps = [df.time[0]-(3600*24*i) for i in range(timestamp+1)]"
   ]
  },
  {
   "cell_type": "code",
   "execution_count": 280,
   "id": "cordless-working",
   "metadata": {
    "ExecuteTime": {
     "end_time": "2021-02-14T01:35:58.190835Z",
     "start_time": "2021-02-14T01:35:58.186845Z"
    }
   },
   "outputs": [],
   "source": [
    "#create timestamp dataframe\n",
    "timestamps = pd.DataFrame(np.array(timestamps),columns=['time'])"
   ]
  },
  {
   "cell_type": "code",
   "execution_count": 282,
   "id": "whole-breach",
   "metadata": {
    "ExecuteTime": {
     "end_time": "2021-02-14T01:36:00.827093Z",
     "start_time": "2021-02-14T01:36:00.818119Z"
    }
   },
   "outputs": [],
   "source": [
    "#merge on new timestamp with previous dataframe to be sure it all talies up\n",
    "new_df = pd.merge(df,timestamps,how='right',on=['time']).reset_index(drop=True)"
   ]
  },
  {
   "cell_type": "code",
   "execution_count": 283,
   "id": "finished-district",
   "metadata": {
    "ExecuteTime": {
     "end_time": "2021-02-14T01:36:01.709132Z",
     "start_time": "2021-02-14T01:36:01.705142Z"
    },
    "scrolled": true
   },
   "outputs": [],
   "source": [
    "new_df = new_df.fillna(method='bfill',axis=0)"
   ]
  },
  {
   "cell_type": "code",
   "execution_count": 284,
   "id": "chronic-floating",
   "metadata": {
    "ExecuteTime": {
     "end_time": "2021-02-14T01:36:07.394056Z",
     "start_time": "2021-02-14T01:36:07.386077Z"
    },
    "scrolled": true
   },
   "outputs": [
    {
     "data": {
      "text/html": [
       "<div>\n",
       "<style scoped>\n",
       "    .dataframe tbody tr th:only-of-type {\n",
       "        vertical-align: middle;\n",
       "    }\n",
       "\n",
       "    .dataframe tbody tr th {\n",
       "        vertical-align: top;\n",
       "    }\n",
       "\n",
       "    .dataframe thead th {\n",
       "        text-align: right;\n",
       "    }\n",
       "</style>\n",
       "<table border=\"1\" class=\"dataframe\">\n",
       "  <thead>\n",
       "    <tr style=\"text-align: right;\">\n",
       "      <th></th>\n",
       "      <th>time</th>\n",
       "      <th>low</th>\n",
       "      <th>high</th>\n",
       "      <th>open</th>\n",
       "      <th>close</th>\n",
       "      <th>volume</th>\n",
       "      <th>check</th>\n",
       "    </tr>\n",
       "  </thead>\n",
       "  <tbody>\n",
       "  </tbody>\n",
       "</table>\n",
       "</div>"
      ],
      "text/plain": [
       "Empty DataFrame\n",
       "Columns: [time, low, high, open, close, volume, check]\n",
       "Index: []"
      ]
     },
     "execution_count": 284,
     "metadata": {},
     "output_type": "execute_result"
    }
   ],
   "source": [
    "new_df[new_df.low.isnull() == True]"
   ]
  },
  {
   "cell_type": "code",
   "execution_count": 285,
   "id": "liked-discharge",
   "metadata": {
    "ExecuteTime": {
     "end_time": "2021-02-14T01:36:08.487005Z",
     "start_time": "2021-02-14T01:36:08.482017Z"
    }
   },
   "outputs": [
    {
     "data": {
      "text/plain": [
       "(1714, 7)"
      ]
     },
     "execution_count": 285,
     "metadata": {},
     "output_type": "execute_result"
    }
   ],
   "source": [
    "new_df.shape"
   ]
  },
  {
   "cell_type": "code",
   "execution_count": 286,
   "id": "suspected-recipe",
   "metadata": {
    "ExecuteTime": {
     "end_time": "2021-02-14T01:36:10.459619Z",
     "start_time": "2021-02-14T01:36:10.455599Z"
    }
   },
   "outputs": [],
   "source": [
    "new_df.drop(['check'],axis=1,inplace=True)"
   ]
  },
  {
   "cell_type": "code",
   "execution_count": 287,
   "id": "laughing-description",
   "metadata": {
    "ExecuteTime": {
     "end_time": "2021-02-14T01:36:11.709982Z",
     "start_time": "2021-02-14T01:36:11.705992Z"
    }
   },
   "outputs": [
    {
     "data": {
      "text/plain": [
       "Index(['time', 'low', 'high', 'open', 'close', 'volume'], dtype='object')"
      ]
     },
     "execution_count": 287,
     "metadata": {},
     "output_type": "execute_result"
    }
   ],
   "source": [
    "new_df.columns"
   ]
  },
  {
   "cell_type": "code",
   "execution_count": 288,
   "id": "extraordinary-juvenile",
   "metadata": {
    "ExecuteTime": {
     "end_time": "2021-02-14T01:36:15.562310Z",
     "start_time": "2021-02-14T01:36:15.558323Z"
    }
   },
   "outputs": [],
   "source": [
    "Cols = ['Time','Low','High','Open','Close','Volume']\n",
    "new_df.columns = Cols"
   ]
  },
  {
   "cell_type": "code",
   "execution_count": 289,
   "id": "competitive-injury",
   "metadata": {
    "ExecuteTime": {
     "end_time": "2021-02-14T01:36:19.393991Z",
     "start_time": "2021-02-14T01:36:19.284257Z"
    }
   },
   "outputs": [],
   "source": [
    "new_df['Date'] = [arrow.Arrow.fromtimestamp(date).format('YYYY-MM-DD HH:mm') for date in new_df['Time']]"
   ]
  },
  {
   "cell_type": "code",
   "execution_count": 290,
   "id": "accepted-program",
   "metadata": {
    "ExecuteTime": {
     "end_time": "2021-02-14T01:36:20.537191Z",
     "start_time": "2021-02-14T01:36:20.526219Z"
    }
   },
   "outputs": [
    {
     "data": {
      "text/plain": [
       "(1714, 6)"
      ]
     },
     "execution_count": 290,
     "metadata": {},
     "output_type": "execute_result"
    }
   ],
   "source": [
    "new_df = new_df.drop_duplicates().set_index('Date')\n",
    "new_df.shape"
   ]
  },
  {
   "cell_type": "code",
   "execution_count": 291,
   "id": "stuffed-exhaust",
   "metadata": {
    "ExecuteTime": {
     "end_time": "2021-02-14T01:36:21.083647Z",
     "start_time": "2021-02-14T01:36:21.073675Z"
    },
    "scrolled": true
   },
   "outputs": [
    {
     "data": {
      "text/html": [
       "<div>\n",
       "<style scoped>\n",
       "    .dataframe tbody tr th:only-of-type {\n",
       "        vertical-align: middle;\n",
       "    }\n",
       "\n",
       "    .dataframe tbody tr th {\n",
       "        vertical-align: top;\n",
       "    }\n",
       "\n",
       "    .dataframe thead th {\n",
       "        text-align: right;\n",
       "    }\n",
       "</style>\n",
       "<table border=\"1\" class=\"dataframe\">\n",
       "  <thead>\n",
       "    <tr style=\"text-align: right;\">\n",
       "      <th></th>\n",
       "      <th>Time</th>\n",
       "      <th>Low</th>\n",
       "      <th>High</th>\n",
       "      <th>Open</th>\n",
       "      <th>Close</th>\n",
       "      <th>Volume</th>\n",
       "    </tr>\n",
       "    <tr>\n",
       "      <th>Date</th>\n",
       "      <th></th>\n",
       "      <th></th>\n",
       "      <th></th>\n",
       "      <th></th>\n",
       "      <th></th>\n",
       "      <th></th>\n",
       "    </tr>\n",
       "  </thead>\n",
       "  <tbody>\n",
       "    <tr>\n",
       "      <th>2021-01-25 00:00</th>\n",
       "      <td>1611532800</td>\n",
       "      <td>1293.65</td>\n",
       "      <td>1477.30</td>\n",
       "      <td>1394.04</td>\n",
       "      <td>1317.97</td>\n",
       "      <td>627535.527937</td>\n",
       "    </tr>\n",
       "    <tr>\n",
       "      <th>2021-01-24 00:00</th>\n",
       "      <td>1611446400</td>\n",
       "      <td>1221.66</td>\n",
       "      <td>1401.92</td>\n",
       "      <td>1234.47</td>\n",
       "      <td>1394.00</td>\n",
       "      <td>434746.405089</td>\n",
       "    </tr>\n",
       "    <tr>\n",
       "      <th>2021-01-23 00:00</th>\n",
       "      <td>1611360000</td>\n",
       "      <td>1196.74</td>\n",
       "      <td>1272.00</td>\n",
       "      <td>1233.42</td>\n",
       "      <td>1234.55</td>\n",
       "      <td>269855.020808</td>\n",
       "    </tr>\n",
       "    <tr>\n",
       "      <th>2021-01-22 00:00</th>\n",
       "      <td>1611273600</td>\n",
       "      <td>1039.62</td>\n",
       "      <td>1275.99</td>\n",
       "      <td>1110.61</td>\n",
       "      <td>1233.60</td>\n",
       "      <td>758560.995474</td>\n",
       "    </tr>\n",
       "    <tr>\n",
       "      <th>2021-01-21 00:00</th>\n",
       "      <td>1611187200</td>\n",
       "      <td>1081.00</td>\n",
       "      <td>1390.00</td>\n",
       "      <td>1377.15</td>\n",
       "      <td>1110.62</td>\n",
       "      <td>789194.344680</td>\n",
       "    </tr>\n",
       "  </tbody>\n",
       "</table>\n",
       "</div>"
      ],
      "text/plain": [
       "                        Time      Low     High     Open    Close  \\\n",
       "Date                                                               \n",
       "2021-01-25 00:00  1611532800  1293.65  1477.30  1394.04  1317.97   \n",
       "2021-01-24 00:00  1611446400  1221.66  1401.92  1234.47  1394.00   \n",
       "2021-01-23 00:00  1611360000  1196.74  1272.00  1233.42  1234.55   \n",
       "2021-01-22 00:00  1611273600  1039.62  1275.99  1110.61  1233.60   \n",
       "2021-01-21 00:00  1611187200  1081.00  1390.00  1377.15  1110.62   \n",
       "\n",
       "                         Volume  \n",
       "Date                             \n",
       "2021-01-25 00:00  627535.527937  \n",
       "2021-01-24 00:00  434746.405089  \n",
       "2021-01-23 00:00  269855.020808  \n",
       "2021-01-22 00:00  758560.995474  \n",
       "2021-01-21 00:00  789194.344680  "
      ]
     },
     "execution_count": 291,
     "metadata": {},
     "output_type": "execute_result"
    }
   ],
   "source": [
    "new_df.head()"
   ]
  },
  {
   "cell_type": "code",
   "execution_count": 292,
   "id": "comprehensive-liver",
   "metadata": {
    "ExecuteTime": {
     "end_time": "2021-02-14T01:36:30.444349Z",
     "start_time": "2021-02-14T01:36:30.440360Z"
    }
   },
   "outputs": [],
   "source": [
    "new_df.drop(['Time'],axis=1,inplace=True)"
   ]
  },
  {
   "cell_type": "code",
   "execution_count": 293,
   "id": "authentic-hypothetical",
   "metadata": {
    "ExecuteTime": {
     "end_time": "2021-02-14T01:36:37.761315Z",
     "start_time": "2021-02-14T01:36:37.746328Z"
    }
   },
   "outputs": [],
   "source": [
    "#save csv \n",
    "new_df.to_csv('ETHDaily.csv')"
   ]
  }
 ],
 "metadata": {
  "kernelspec": {
   "display_name": "Python 3",
   "language": "python",
   "name": "python3"
  },
  "language_info": {
   "codemirror_mode": {
    "name": "ipython",
    "version": 3
   },
   "file_extension": ".py",
   "mimetype": "text/x-python",
   "name": "python",
   "nbconvert_exporter": "python",
   "pygments_lexer": "ipython3",
   "version": "3.7.9"
  }
 },
 "nbformat": 4,
 "nbformat_minor": 5
}
