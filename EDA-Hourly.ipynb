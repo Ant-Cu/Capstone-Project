{
 "cells": [
  {
   "cell_type": "code",
   "execution_count": 2,
   "id": "favorite-application",
   "metadata": {
    "ExecuteTime": {
     "end_time": "2021-02-22T11:31:14.093138Z",
     "start_time": "2021-02-22T11:31:12.346147Z"
    }
   },
   "outputs": [],
   "source": [
    "import cbpro\n",
    "import pandas as pd\n",
    "import numpy as np\n",
    "import matplotlib.pyplot as plt\n",
    "import seaborn as sns\n",
    "import requests\n",
    "import arrow\n",
    "from requests.auth import AuthBase\n",
    "import plotly.graph_objs as go\n",
    "\n",
    "\n",
    "pd.options.display.max_rows = 4000\n",
    "pd.options.display.max_columns = 4000\n"
   ]
  },
  {
   "cell_type": "code",
   "execution_count": 3,
   "id": "sudden-mouth",
   "metadata": {
    "ExecuteTime": {
     "end_time": "2021-02-22T11:31:14.902193Z",
     "start_time": "2021-02-22T11:31:14.094086Z"
    }
   },
   "outputs": [
    {
     "data": {
      "text/html": [
       "        <script type=\"text/javascript\">\n",
       "        window.PlotlyConfig = {MathJaxConfig: 'local'};\n",
       "        if (window.MathJax) {MathJax.Hub.Config({SVG: {font: \"STIX-Web\"}});}\n",
       "        if (typeof require !== 'undefined') {\n",
       "        require.undef(\"plotly\");\n",
       "        requirejs.config({\n",
       "            paths: {\n",
       "                'plotly': ['https://cdn.plot.ly/plotly-latest.min']\n",
       "            }\n",
       "        });\n",
       "        require(['plotly'], function(Plotly) {\n",
       "            window._Plotly = Plotly;\n",
       "        });\n",
       "        }\n",
       "        </script>\n",
       "        "
      ]
     },
     "metadata": {},
     "output_type": "display_data"
    }
   ],
   "source": [
    "import plotly.offline as py\n",
    "import plotly.graph_objs as go\n",
    "py.init_notebook_mode(connected=True)\n",
    "from plotly import tools\n",
    "import plotly.figure_factory as ff"
   ]
  },
  {
   "cell_type": "markdown",
   "id": "renewable-melissa",
   "metadata": {},
   "source": [
    "# Read CSV File"
   ]
  },
  {
   "cell_type": "code",
   "execution_count": 4,
   "id": "single-patio",
   "metadata": {
    "ExecuteTime": {
     "end_time": "2021-02-22T11:31:14.908176Z",
     "start_time": "2021-02-22T11:31:14.904186Z"
    }
   },
   "outputs": [],
   "source": [
    "#new_df.to_csv('ETHUSD5M.csv',index=False)"
   ]
  },
  {
   "cell_type": "code",
   "execution_count": 178,
   "id": "imposed-quantum",
   "metadata": {
    "ExecuteTime": {
     "end_time": "2021-02-23T00:17:25.959707Z",
     "start_time": "2021-02-23T00:17:25.901313Z"
    }
   },
   "outputs": [
    {
     "data": {
      "text/plain": [
       "(44425, 6)"
      ]
     },
     "execution_count": 178,
     "metadata": {},
     "output_type": "execute_result"
    }
   ],
   "source": [
    "test = pd.read_csv('BTCHourly.csv')\n",
    "\n",
    "test.shape"
   ]
  },
  {
   "cell_type": "code",
   "execution_count": 179,
   "id": "intelligent-mediterranean",
   "metadata": {
    "ExecuteTime": {
     "end_time": "2021-02-23T00:17:26.219883Z",
     "start_time": "2021-02-23T00:17:26.206040Z"
    }
   },
   "outputs": [
    {
     "data": {
      "text/html": [
       "<div>\n",
       "<style scoped>\n",
       "    .dataframe tbody tr th:only-of-type {\n",
       "        vertical-align: middle;\n",
       "    }\n",
       "\n",
       "    .dataframe tbody tr th {\n",
       "        vertical-align: top;\n",
       "    }\n",
       "\n",
       "    .dataframe thead th {\n",
       "        text-align: right;\n",
       "    }\n",
       "</style>\n",
       "<table border=\"1\" class=\"dataframe\">\n",
       "  <thead>\n",
       "    <tr style=\"text-align: right;\">\n",
       "      <th></th>\n",
       "      <th>Date</th>\n",
       "      <th>Low</th>\n",
       "      <th>High</th>\n",
       "      <th>Open</th>\n",
       "      <th>Close</th>\n",
       "      <th>Volume</th>\n",
       "    </tr>\n",
       "  </thead>\n",
       "  <tbody>\n",
       "    <tr>\n",
       "      <th>0</th>\n",
       "      <td>2021-01-25 00:00</td>\n",
       "      <td>32210.17</td>\n",
       "      <td>32850.00</td>\n",
       "      <td>32293.18</td>\n",
       "      <td>32596.42</td>\n",
       "      <td>1272.428729</td>\n",
       "    </tr>\n",
       "    <tr>\n",
       "      <th>1</th>\n",
       "      <td>2021-01-24 23:00</td>\n",
       "      <td>32044.46</td>\n",
       "      <td>32394.02</td>\n",
       "      <td>32148.61</td>\n",
       "      <td>32288.56</td>\n",
       "      <td>592.495060</td>\n",
       "    </tr>\n",
       "    <tr>\n",
       "      <th>2</th>\n",
       "      <td>2021-01-24 22:00</td>\n",
       "      <td>31687.39</td>\n",
       "      <td>32366.50</td>\n",
       "      <td>31934.22</td>\n",
       "      <td>32152.93</td>\n",
       "      <td>809.949737</td>\n",
       "    </tr>\n",
       "    <tr>\n",
       "      <th>3</th>\n",
       "      <td>2021-01-24 21:00</td>\n",
       "      <td>31605.31</td>\n",
       "      <td>31999.87</td>\n",
       "      <td>31700.14</td>\n",
       "      <td>31936.65</td>\n",
       "      <td>493.539396</td>\n",
       "    </tr>\n",
       "    <tr>\n",
       "      <th>4</th>\n",
       "      <td>2021-01-24 20:00</td>\n",
       "      <td>31279.33</td>\n",
       "      <td>31775.65</td>\n",
       "      <td>31340.15</td>\n",
       "      <td>31697.78</td>\n",
       "      <td>767.555321</td>\n",
       "    </tr>\n",
       "  </tbody>\n",
       "</table>\n",
       "</div>"
      ],
      "text/plain": [
       "               Date       Low      High      Open     Close       Volume\n",
       "0  2021-01-25 00:00  32210.17  32850.00  32293.18  32596.42  1272.428729\n",
       "1  2021-01-24 23:00  32044.46  32394.02  32148.61  32288.56   592.495060\n",
       "2  2021-01-24 22:00  31687.39  32366.50  31934.22  32152.93   809.949737\n",
       "3  2021-01-24 21:00  31605.31  31999.87  31700.14  31936.65   493.539396\n",
       "4  2021-01-24 20:00  31279.33  31775.65  31340.15  31697.78   767.555321"
      ]
     },
     "execution_count": 179,
     "metadata": {},
     "output_type": "execute_result"
    }
   ],
   "source": [
    "test.head()"
   ]
  },
  {
   "cell_type": "code",
   "execution_count": 180,
   "id": "global-piano",
   "metadata": {
    "ExecuteTime": {
     "end_time": "2021-02-23T00:17:26.434927Z",
     "start_time": "2021-02-23T00:17:26.403037Z"
    }
   },
   "outputs": [],
   "source": [
    "#test.drop('Unnamed: 0',axis=1,inplace=True)\n",
    "test = test.sort_values('Date')"
   ]
  },
  {
   "cell_type": "code",
   "execution_count": 181,
   "id": "educational-european",
   "metadata": {
    "ExecuteTime": {
     "end_time": "2021-02-23T00:17:26.593817Z",
     "start_time": "2021-02-23T00:17:26.586835Z"
    }
   },
   "outputs": [],
   "source": [
    "test['avg'] = (test[['Low','High','Close']].sum(axis=1))/3"
   ]
  },
  {
   "cell_type": "code",
   "execution_count": 182,
   "id": "fitted-devices",
   "metadata": {
    "ExecuteTime": {
     "end_time": "2021-02-23T00:17:26.758875Z",
     "start_time": "2021-02-23T00:17:26.744419Z"
    }
   },
   "outputs": [],
   "source": [
    "#test = test.set_index('Date')\n",
    "test = test[['Date','Open','High','Low','Close','Volume','avg']].copy()\n",
    "test.columns = ['Date','Open','High','Low','Close','Volume','avg']"
   ]
  },
  {
   "cell_type": "code",
   "execution_count": 183,
   "id": "vocal-program",
   "metadata": {
    "ExecuteTime": {
     "end_time": "2021-02-23T00:17:27.059790Z",
     "start_time": "2021-02-23T00:17:27.046826Z"
    }
   },
   "outputs": [
    {
     "data": {
      "text/html": [
       "<div>\n",
       "<style scoped>\n",
       "    .dataframe tbody tr th:only-of-type {\n",
       "        vertical-align: middle;\n",
       "    }\n",
       "\n",
       "    .dataframe tbody tr th {\n",
       "        vertical-align: top;\n",
       "    }\n",
       "\n",
       "    .dataframe thead th {\n",
       "        text-align: right;\n",
       "    }\n",
       "</style>\n",
       "<table border=\"1\" class=\"dataframe\">\n",
       "  <thead>\n",
       "    <tr style=\"text-align: right;\">\n",
       "      <th></th>\n",
       "      <th>Date</th>\n",
       "      <th>Open</th>\n",
       "      <th>High</th>\n",
       "      <th>Low</th>\n",
       "      <th>Close</th>\n",
       "      <th>Volume</th>\n",
       "      <th>avg</th>\n",
       "    </tr>\n",
       "  </thead>\n",
       "  <tbody>\n",
       "    <tr>\n",
       "      <th>44424</th>\n",
       "      <td>2016-01-01 00:00</td>\n",
       "      <td>430.35</td>\n",
       "      <td>431.82</td>\n",
       "      <td>430.35</td>\n",
       "      <td>430.61</td>\n",
       "      <td>160.179593</td>\n",
       "      <td>430.926667</td>\n",
       "    </tr>\n",
       "    <tr>\n",
       "      <th>44423</th>\n",
       "      <td>2016-01-01 01:00</td>\n",
       "      <td>430.59</td>\n",
       "      <td>430.98</td>\n",
       "      <td>430.00</td>\n",
       "      <td>430.78</td>\n",
       "      <td>92.132315</td>\n",
       "      <td>430.586667</td>\n",
       "    </tr>\n",
       "    <tr>\n",
       "      <th>44422</th>\n",
       "      <td>2016-01-01 02:00</td>\n",
       "      <td>430.80</td>\n",
       "      <td>430.89</td>\n",
       "      <td>430.50</td>\n",
       "      <td>430.62</td>\n",
       "      <td>93.024327</td>\n",
       "      <td>430.670000</td>\n",
       "    </tr>\n",
       "    <tr>\n",
       "      <th>44421</th>\n",
       "      <td>2016-01-01 03:00</td>\n",
       "      <td>430.62</td>\n",
       "      <td>432.84</td>\n",
       "      <td>430.31</td>\n",
       "      <td>432.84</td>\n",
       "      <td>103.811532</td>\n",
       "      <td>431.996667</td>\n",
       "    </tr>\n",
       "    <tr>\n",
       "      <th>44420</th>\n",
       "      <td>2016-01-01 04:00</td>\n",
       "      <td>432.74</td>\n",
       "      <td>437.15</td>\n",
       "      <td>432.72</td>\n",
       "      <td>436.12</td>\n",
       "      <td>363.875951</td>\n",
       "      <td>435.330000</td>\n",
       "    </tr>\n",
       "  </tbody>\n",
       "</table>\n",
       "</div>"
      ],
      "text/plain": [
       "                   Date    Open    High     Low   Close      Volume  \\\n",
       "44424  2016-01-01 00:00  430.35  431.82  430.35  430.61  160.179593   \n",
       "44423  2016-01-01 01:00  430.59  430.98  430.00  430.78   92.132315   \n",
       "44422  2016-01-01 02:00  430.80  430.89  430.50  430.62   93.024327   \n",
       "44421  2016-01-01 03:00  430.62  432.84  430.31  432.84  103.811532   \n",
       "44420  2016-01-01 04:00  432.74  437.15  432.72  436.12  363.875951   \n",
       "\n",
       "              avg  \n",
       "44424  430.926667  \n",
       "44423  430.586667  \n",
       "44422  430.670000  \n",
       "44421  431.996667  \n",
       "44420  435.330000  "
      ]
     },
     "execution_count": 183,
     "metadata": {},
     "output_type": "execute_result"
    }
   ],
   "source": [
    "test.head()"
   ]
  },
  {
   "cell_type": "code",
   "execution_count": 184,
   "id": "maritime-anger",
   "metadata": {
    "ExecuteTime": {
     "end_time": "2021-02-23T00:17:27.236187Z",
     "start_time": "2021-02-23T00:17:27.208322Z"
    }
   },
   "outputs": [],
   "source": [
    "test['Date'] = pd.to_datetime(test['Date'])"
   ]
  },
  {
   "cell_type": "code",
   "execution_count": 185,
   "id": "lined-protest",
   "metadata": {
    "ExecuteTime": {
     "end_time": "2021-02-23T00:17:27.385226Z",
     "start_time": "2021-02-23T00:17:27.372441Z"
    },
    "scrolled": true
   },
   "outputs": [
    {
     "data": {
      "text/html": [
       "<div>\n",
       "<style scoped>\n",
       "    .dataframe tbody tr th:only-of-type {\n",
       "        vertical-align: middle;\n",
       "    }\n",
       "\n",
       "    .dataframe tbody tr th {\n",
       "        vertical-align: top;\n",
       "    }\n",
       "\n",
       "    .dataframe thead th {\n",
       "        text-align: right;\n",
       "    }\n",
       "</style>\n",
       "<table border=\"1\" class=\"dataframe\">\n",
       "  <thead>\n",
       "    <tr style=\"text-align: right;\">\n",
       "      <th></th>\n",
       "      <th>Open</th>\n",
       "      <th>High</th>\n",
       "      <th>Low</th>\n",
       "      <th>Close</th>\n",
       "      <th>Volume</th>\n",
       "      <th>avg</th>\n",
       "    </tr>\n",
       "    <tr>\n",
       "      <th>Date</th>\n",
       "      <th></th>\n",
       "      <th></th>\n",
       "      <th></th>\n",
       "      <th></th>\n",
       "      <th></th>\n",
       "      <th></th>\n",
       "    </tr>\n",
       "  </thead>\n",
       "  <tbody>\n",
       "    <tr>\n",
       "      <th>2016-01-01 00:00:00</th>\n",
       "      <td>430.35</td>\n",
       "      <td>431.82</td>\n",
       "      <td>430.35</td>\n",
       "      <td>430.61</td>\n",
       "      <td>160.179593</td>\n",
       "      <td>430.926667</td>\n",
       "    </tr>\n",
       "    <tr>\n",
       "      <th>2016-01-01 01:00:00</th>\n",
       "      <td>430.59</td>\n",
       "      <td>430.98</td>\n",
       "      <td>430.00</td>\n",
       "      <td>430.78</td>\n",
       "      <td>92.132315</td>\n",
       "      <td>430.586667</td>\n",
       "    </tr>\n",
       "    <tr>\n",
       "      <th>2016-01-01 02:00:00</th>\n",
       "      <td>430.80</td>\n",
       "      <td>430.89</td>\n",
       "      <td>430.50</td>\n",
       "      <td>430.62</td>\n",
       "      <td>93.024327</td>\n",
       "      <td>430.670000</td>\n",
       "    </tr>\n",
       "    <tr>\n",
       "      <th>2016-01-01 03:00:00</th>\n",
       "      <td>430.62</td>\n",
       "      <td>432.84</td>\n",
       "      <td>430.31</td>\n",
       "      <td>432.84</td>\n",
       "      <td>103.811532</td>\n",
       "      <td>431.996667</td>\n",
       "    </tr>\n",
       "    <tr>\n",
       "      <th>2016-01-01 04:00:00</th>\n",
       "      <td>432.74</td>\n",
       "      <td>437.15</td>\n",
       "      <td>432.72</td>\n",
       "      <td>436.12</td>\n",
       "      <td>363.875951</td>\n",
       "      <td>435.330000</td>\n",
       "    </tr>\n",
       "  </tbody>\n",
       "</table>\n",
       "</div>"
      ],
      "text/plain": [
       "                       Open    High     Low   Close      Volume         avg\n",
       "Date                                                                       \n",
       "2016-01-01 00:00:00  430.35  431.82  430.35  430.61  160.179593  430.926667\n",
       "2016-01-01 01:00:00  430.59  430.98  430.00  430.78   92.132315  430.586667\n",
       "2016-01-01 02:00:00  430.80  430.89  430.50  430.62   93.024327  430.670000\n",
       "2016-01-01 03:00:00  430.62  432.84  430.31  432.84  103.811532  431.996667\n",
       "2016-01-01 04:00:00  432.74  437.15  432.72  436.12  363.875951  435.330000"
      ]
     },
     "execution_count": 185,
     "metadata": {},
     "output_type": "execute_result"
    }
   ],
   "source": [
    "test = test.set_index('Date',drop=True)\n",
    "test.head(5)"
   ]
  },
  {
   "cell_type": "code",
   "execution_count": 186,
   "id": "polish-cheat",
   "metadata": {
    "ExecuteTime": {
     "end_time": "2021-02-23T00:17:27.655806Z",
     "start_time": "2021-02-23T00:17:27.554792Z"
    },
    "scrolled": false
   },
   "outputs": [],
   "source": [
    "#Create my technical analysis indicators which are going to be my features\n",
    "\n",
    "x = ['Close','Volume','avg']\n",
    "t1 = 8\n",
    "t2 = 16\n",
    "for i in test[x]:\n",
    "\n",
    "    c1 = 'rtn_' + i\n",
    "    c2 = 'abs_rtn_' + i\n",
    "    test[c1] = np.log(test[i]/test[i].shift(1))\n",
    "    test[c2] = abs(np.log(test[i]/test[i].shift(1)))\n",
    "    c3 = i + '_std' + str(t1)\n",
    "    c4 = i + '_std' + str(t2) \n",
    "    test[c3] = test[i].rolling(window=t1).std()\n",
    "    test[c4] = test[i].rolling(window=t2).std()\n",
    "    \n",
    "    c5 = c2 + '_' + str(t1) + 'MA'\n",
    "    c6 = c2 + '_' + str(t2) + 'MA'\n",
    "    test[c5] = test[c2].rolling(window=t1).mean()\n",
    "    test[c6] = test[c2].rolling(window=t2).mean()\n",
    "    c7 = i + '_' + str(t1) + 'EMA'\n",
    "    c8 = i + '_' + str(t2) + 'EMA'\n",
    "    test[c7] = test[i].ewm(span=t1,adjust=True).mean()\n",
    "    test[c8] = test[i].ewm(span=t2,adjust=True).mean()\n",
    "    c9 = i + '_' + str(t1) + 'MA'\n",
    "    c10 = i + '_' + str(t2) + 'MA'\n",
    "    test[c9] = test[i].rolling(window=t1).mean()\n",
    "    test[c10] = test[i].rolling(window=t2).mean()\n",
    "    \n",
    "   \n",
    "    c11 = 'Diff_' + c8 + c7\n",
    "    test[c11] = test[c8] - test[c7]\n",
    "        #Bollinger on Close price\n",
    "    if i == 'Close' or 'avg':\n",
    "        \n",
    "        bol1 = ['BolUp'+c9,'BolDn'+c9]\n",
    "        bol2 = ['BolUp'+c10,'BolDn'+c10]\n",
    "\n",
    "        test[bol1[0]] = test[i].rolling(window=t1).mean() + (test[c2]*2.5) \n",
    "        test[bol1[1]] = test[i].rolling(window=t1).mean() - (test[c2]*2.5)\n",
    "        test[bol2[0]] = test[i].rolling(window=t2).mean() + (test[c3]*2.5)\n",
    "        test[bol2[1]] = test[i].rolling(window=t2).mean() - (test[c3]*2.5) \n"
   ]
  },
  {
   "cell_type": "code",
   "execution_count": null,
   "id": "powered-response",
   "metadata": {},
   "outputs": [],
   "source": []
  },
  {
   "cell_type": "code",
   "execution_count": 187,
   "id": "exciting-making",
   "metadata": {
    "ExecuteTime": {
     "end_time": "2021-02-23T00:17:27.922159Z",
     "start_time": "2021-02-23T00:17:27.876699Z"
    }
   },
   "outputs": [],
   "source": [
    "#Create the RSI, Relative Strength Indicator \n",
    "\n",
    "rsi_period = 14\n",
    "rsi = pd.DataFrame(test['Close'],index=test.index)\n",
    "rsi['rtn'] = rsi['Close'].diff(periods=1)\n",
    "rsi['po_rtn'] = [x if x > 0 else 0 for x in rsi['rtn']]\n",
    "rsi['neg_rtn'] = [x if x < 0 else 0 for x in rsi['rtn']]\n",
    "#rsi = rsi.iloc[1:,:]\n",
    "rsi['RS'] = rsi['po_rtn'].ewm(span=rsi_period).mean()/rsi['neg_rtn'].abs().ewm(span=rsi_period).mean()\n",
    "rsi['rsi'] = 100-(100/(1+rsi['RS']))"
   ]
  },
  {
   "cell_type": "code",
   "execution_count": 188,
   "id": "magnetic-guinea",
   "metadata": {
    "ExecuteTime": {
     "end_time": "2021-02-23T00:17:28.326538Z",
     "start_time": "2021-02-23T00:17:28.322549Z"
    }
   },
   "outputs": [],
   "source": [
    "test['RSI_Close'] = rsi['rsi']"
   ]
  },
  {
   "cell_type": "code",
   "execution_count": 189,
   "id": "express-simpson",
   "metadata": {
    "ExecuteTime": {
     "end_time": "2021-02-23T00:17:28.875641Z",
     "start_time": "2021-02-23T00:17:28.870653Z"
    }
   },
   "outputs": [
    {
     "data": {
      "text/plain": [
       "Index(['Open', 'High', 'Low', 'Close', 'Volume', 'avg', 'rtn_Close',\n",
       "       'abs_rtn_Close', 'Close_std8', 'Close_std16', 'abs_rtn_Close_8MA',\n",
       "       'abs_rtn_Close_16MA', 'Close_8EMA', 'Close_16EMA', 'Close_8MA',\n",
       "       'Close_16MA', 'Diff_Close_16EMAClose_8EMA', 'BolUpClose_8MA',\n",
       "       'BolDnClose_8MA', 'BolUpClose_16MA', 'BolDnClose_16MA', 'rtn_Volume',\n",
       "       'abs_rtn_Volume', 'Volume_std8', 'Volume_std16', 'abs_rtn_Volume_8MA',\n",
       "       'abs_rtn_Volume_16MA', 'Volume_8EMA', 'Volume_16EMA', 'Volume_8MA',\n",
       "       'Volume_16MA', 'Diff_Volume_16EMAVolume_8EMA', 'BolUpVolume_8MA',\n",
       "       'BolDnVolume_8MA', 'BolUpVolume_16MA', 'BolDnVolume_16MA', 'rtn_avg',\n",
       "       'abs_rtn_avg', 'avg_std8', 'avg_std16', 'abs_rtn_avg_8MA',\n",
       "       'abs_rtn_avg_16MA', 'avg_8EMA', 'avg_16EMA', 'avg_8MA', 'avg_16MA',\n",
       "       'Diff_avg_16EMAavg_8EMA', 'BolUpavg_8MA', 'BolDnavg_8MA',\n",
       "       'BolUpavg_16MA', 'BolDnavg_16MA', 'RSI_Close'],\n",
       "      dtype='object')"
      ]
     },
     "execution_count": 189,
     "metadata": {},
     "output_type": "execute_result"
    }
   ],
   "source": [
    "test.columns"
   ]
  },
  {
   "cell_type": "code",
   "execution_count": 190,
   "id": "molecular-canada",
   "metadata": {
    "ExecuteTime": {
     "end_time": "2021-02-23T00:17:29.090412Z",
     "start_time": "2021-02-23T00:17:29.076717Z"
    }
   },
   "outputs": [],
   "source": [
    "#Volume indicator\n",
    "test['Volume_ratio'] = test['Volume'] / test['Volume_8MA']\n",
    "\n",
    "#Features to locate the price divergence from the bollinger bands\n",
    "test['Close_MAs_ratio'] = test['Close_16MA'] / test['Close_8MA']\n",
    "test['DnBol_Dist_16'] = test['Close'] - test['BolDnClose_16MA']\n",
    "test['UpBol_Dist_16'] = test['Close'] - test['BolUpClose_16MA']\n",
    "test['Dist_BolDn_BolUp'] = test['BolUpClose_16MA'] - test['BolDnClose_16MA']"
   ]
  },
  {
   "cell_type": "code",
   "execution_count": 191,
   "id": "mineral-radiation",
   "metadata": {
    "ExecuteTime": {
     "end_time": "2021-02-23T00:17:29.566892Z",
     "start_time": "2021-02-23T00:17:29.293351Z"
    }
   },
   "outputs": [],
   "source": [
    "#Average true range calculation, volatility indicator\n",
    "\n",
    "t3 = 14  #the standard period for daily chart\n",
    "ATR = pd.DataFrame()\n",
    "ATR['HighLow'] = test['High'] - test['Low']\n",
    "ATR['High_Close-1'] = abs(test['High'] - test['Close'].shift(-1))\n",
    "ATR['Low_Close-1'] = abs(test['Low'] - test['Close'].shift(-1))\n",
    "ATR['True_Range'] = ATR.max(axis=1)\n",
    "ATR['ATR'] = ATR['True_Range'].rolling(window=t3).mean()"
   ]
  },
  {
   "cell_type": "code",
   "execution_count": 192,
   "id": "small-patio",
   "metadata": {
    "ExecuteTime": {
     "end_time": "2021-02-23T00:17:29.573874Z",
     "start_time": "2021-02-23T00:17:29.567890Z"
    }
   },
   "outputs": [],
   "source": [
    "test['ATR'] = ATR['ATR']"
   ]
  },
  {
   "cell_type": "code",
   "execution_count": 193,
   "id": "efficient-surface",
   "metadata": {
    "ExecuteTime": {
     "end_time": "2021-02-23T00:17:29.702053Z",
     "start_time": "2021-02-23T00:17:29.699188Z"
    }
   },
   "outputs": [],
   "source": [
    "#test = pd.read_csv('data-eth-15min.csv')\n",
    "#test = test.set_index(pd.to_datetime(test['Date']))"
   ]
  },
  {
   "cell_type": "code",
   "execution_count": 194,
   "id": "ethical-keyboard",
   "metadata": {
    "ExecuteTime": {
     "end_time": "2021-02-23T00:17:30.315825Z",
     "start_time": "2021-02-23T00:17:30.308871Z"
    },
    "scrolled": true
   },
   "outputs": [
    {
     "data": {
      "text/html": [
       "<div>\n",
       "<style scoped>\n",
       "    .dataframe tbody tr th:only-of-type {\n",
       "        vertical-align: middle;\n",
       "    }\n",
       "\n",
       "    .dataframe tbody tr th {\n",
       "        vertical-align: top;\n",
       "    }\n",
       "\n",
       "    .dataframe thead th {\n",
       "        text-align: right;\n",
       "    }\n",
       "</style>\n",
       "<table border=\"1\" class=\"dataframe\">\n",
       "  <thead>\n",
       "    <tr style=\"text-align: right;\">\n",
       "      <th></th>\n",
       "      <th>Close</th>\n",
       "    </tr>\n",
       "    <tr>\n",
       "      <th>Date</th>\n",
       "      <th></th>\n",
       "    </tr>\n",
       "  </thead>\n",
       "  <tbody>\n",
       "    <tr>\n",
       "      <th>2016-01-01 00:00:00</th>\n",
       "      <td>430.61</td>\n",
       "    </tr>\n",
       "    <tr>\n",
       "      <th>2016-01-01 01:00:00</th>\n",
       "      <td>430.78</td>\n",
       "    </tr>\n",
       "    <tr>\n",
       "      <th>2016-01-01 02:00:00</th>\n",
       "      <td>430.62</td>\n",
       "    </tr>\n",
       "    <tr>\n",
       "      <th>2016-01-01 03:00:00</th>\n",
       "      <td>432.84</td>\n",
       "    </tr>\n",
       "    <tr>\n",
       "      <th>2016-01-01 04:00:00</th>\n",
       "      <td>436.12</td>\n",
       "    </tr>\n",
       "  </tbody>\n",
       "</table>\n",
       "</div>"
      ],
      "text/plain": [
       "                      Close\n",
       "Date                       \n",
       "2016-01-01 00:00:00  430.61\n",
       "2016-01-01 01:00:00  430.78\n",
       "2016-01-01 02:00:00  430.62\n",
       "2016-01-01 03:00:00  432.84\n",
       "2016-01-01 04:00:00  436.12"
      ]
     },
     "execution_count": 194,
     "metadata": {},
     "output_type": "execute_result"
    }
   ],
   "source": [
    "support = pd.DataFrame(test['Close'])\n",
    "support.head()"
   ]
  },
  {
   "cell_type": "code",
   "execution_count": null,
   "id": "previous-charles",
   "metadata": {},
   "outputs": [],
   "source": []
  },
  {
   "cell_type": "code",
   "execution_count": 195,
   "id": "liked-lodge",
   "metadata": {
    "ExecuteTime": {
     "end_time": "2021-02-23T00:17:31.177119Z",
     "start_time": "2021-02-23T00:17:31.033130Z"
    },
    "scrolled": true
   },
   "outputs": [
    {
     "data": {
      "text/html": [
       "<div>\n",
       "<style scoped>\n",
       "    .dataframe tbody tr th:only-of-type {\n",
       "        vertical-align: middle;\n",
       "    }\n",
       "\n",
       "    .dataframe tbody tr th {\n",
       "        vertical-align: top;\n",
       "    }\n",
       "\n",
       "    .dataframe thead th {\n",
       "        text-align: right;\n",
       "    }\n",
       "</style>\n",
       "<table border=\"1\" class=\"dataframe\">\n",
       "  <thead>\n",
       "    <tr style=\"text-align: right;\">\n",
       "      <th></th>\n",
       "      <th>diff</th>\n",
       "      <th>lagged_diff</th>\n",
       "      <th>forward_diff</th>\n",
       "    </tr>\n",
       "    <tr>\n",
       "      <th>Date</th>\n",
       "      <th></th>\n",
       "      <th></th>\n",
       "      <th></th>\n",
       "    </tr>\n",
       "  </thead>\n",
       "  <tbody>\n",
       "    <tr>\n",
       "      <th>2016-01-01 00:00:00</th>\n",
       "      <td>0.000000</td>\n",
       "      <td>0.000000</td>\n",
       "      <td>0.000000</td>\n",
       "    </tr>\n",
       "    <tr>\n",
       "      <th>2016-01-01 01:00:00</th>\n",
       "      <td>0.000000</td>\n",
       "      <td>0.000000</td>\n",
       "      <td>0.000000</td>\n",
       "    </tr>\n",
       "    <tr>\n",
       "      <th>2016-01-01 02:00:00</th>\n",
       "      <td>0.000000</td>\n",
       "      <td>0.820341</td>\n",
       "      <td>0.000000</td>\n",
       "    </tr>\n",
       "    <tr>\n",
       "      <th>2016-01-01 03:00:00</th>\n",
       "      <td>0.820341</td>\n",
       "      <td>2.181506</td>\n",
       "      <td>0.000000</td>\n",
       "    </tr>\n",
       "    <tr>\n",
       "      <th>2016-01-01 04:00:00</th>\n",
       "      <td>2.181506</td>\n",
       "      <td>3.103014</td>\n",
       "      <td>0.820341</td>\n",
       "    </tr>\n",
       "  </tbody>\n",
       "</table>\n",
       "</div>"
      ],
      "text/plain": [
       "                         diff  lagged_diff  forward_diff\n",
       "Date                                                    \n",
       "2016-01-01 00:00:00  0.000000     0.000000      0.000000\n",
       "2016-01-01 01:00:00  0.000000     0.000000      0.000000\n",
       "2016-01-01 02:00:00  0.000000     0.820341      0.000000\n",
       "2016-01-01 03:00:00  0.820341     2.181506      0.000000\n",
       "2016-01-01 04:00:00  2.181506     3.103014      0.820341"
      ]
     },
     "execution_count": 195,
     "metadata": {},
     "output_type": "execute_result"
    }
   ],
   "source": [
    "#trying to find support support and resistance via the differentiation. We know that a derivative is equal to 0 for \n",
    "# minima and maxima. Although it doesnt really work here as price is a random walk\n",
    "supports = pd.DataFrame()\n",
    "supports['diff'] = test['Close_8EMA'].diff(3)\n",
    "supports['lagged_diff'] = supports['diff'].shift(-1)\n",
    "supports['forward_diff'] = supports['diff'].shift(1)\n",
    "supports.fillna(0,inplace=True)\n",
    "supports.head()"
   ]
  },
  {
   "cell_type": "code",
   "execution_count": 196,
   "id": "modified-diversity",
   "metadata": {
    "ExecuteTime": {
     "end_time": "2021-02-23T00:17:31.226786Z",
     "start_time": "2021-02-23T00:17:31.212823Z"
    }
   },
   "outputs": [
    {
     "name": "stdout",
     "output_type": "stream",
     "text": [
      "<class 'pandas.core.frame.DataFrame'>\n",
      "DatetimeIndex: 44425 entries, 2016-01-01 00:00:00 to 2021-01-25 00:00:00\n",
      "Data columns (total 3 columns):\n",
      " #   Column        Non-Null Count  Dtype  \n",
      "---  ------        --------------  -----  \n",
      " 0   diff          44425 non-null  float64\n",
      " 1   lagged_diff   44425 non-null  float64\n",
      " 2   forward_diff  44425 non-null  float64\n",
      "dtypes: float64(3)\n",
      "memory usage: 1.4 MB\n"
     ]
    }
   ],
   "source": [
    "supports.info()"
   ]
  },
  {
   "cell_type": "code",
   "execution_count": 197,
   "id": "cathedral-cuisine",
   "metadata": {
    "ExecuteTime": {
     "end_time": "2021-02-23T00:17:31.464093Z",
     "start_time": "2021-02-23T00:17:31.456115Z"
    },
    "scrolled": true
   },
   "outputs": [],
   "source": [
    "supports['pivot'] = np.where(((supports['lagged_diff'] < 0) & (supports['forward_diff'] > 0)), 1,\n",
    "                                np.where(((supports['lagged_diff'] > 0) & (supports['forward_diff'] < 0)), 2, 0))"
   ]
  },
  {
   "cell_type": "code",
   "execution_count": 198,
   "id": "previous-morrison",
   "metadata": {
    "ExecuteTime": {
     "end_time": "2021-02-23T00:17:32.050323Z",
     "start_time": "2021-02-23T00:17:32.039352Z"
    },
    "scrolled": true
   },
   "outputs": [
    {
     "data": {
      "text/html": [
       "<div>\n",
       "<style scoped>\n",
       "    .dataframe tbody tr th:only-of-type {\n",
       "        vertical-align: middle;\n",
       "    }\n",
       "\n",
       "    .dataframe tbody tr th {\n",
       "        vertical-align: top;\n",
       "    }\n",
       "\n",
       "    .dataframe thead th {\n",
       "        text-align: right;\n",
       "    }\n",
       "</style>\n",
       "<table border=\"1\" class=\"dataframe\">\n",
       "  <thead>\n",
       "    <tr style=\"text-align: right;\">\n",
       "      <th></th>\n",
       "      <th>diff</th>\n",
       "      <th>lagged_diff</th>\n",
       "      <th>forward_diff</th>\n",
       "      <th>pivot</th>\n",
       "    </tr>\n",
       "    <tr>\n",
       "      <th>Date</th>\n",
       "      <th></th>\n",
       "      <th></th>\n",
       "      <th></th>\n",
       "      <th></th>\n",
       "    </tr>\n",
       "  </thead>\n",
       "  <tbody>\n",
       "    <tr>\n",
       "      <th>2016-01-01 00:00:00</th>\n",
       "      <td>0.000000</td>\n",
       "      <td>0.000000</td>\n",
       "      <td>0.000000</td>\n",
       "      <td>0</td>\n",
       "    </tr>\n",
       "    <tr>\n",
       "      <th>2016-01-01 01:00:00</th>\n",
       "      <td>0.000000</td>\n",
       "      <td>0.000000</td>\n",
       "      <td>0.000000</td>\n",
       "      <td>0</td>\n",
       "    </tr>\n",
       "    <tr>\n",
       "      <th>2016-01-01 02:00:00</th>\n",
       "      <td>0.000000</td>\n",
       "      <td>0.820341</td>\n",
       "      <td>0.000000</td>\n",
       "      <td>0</td>\n",
       "    </tr>\n",
       "    <tr>\n",
       "      <th>2016-01-01 03:00:00</th>\n",
       "      <td>0.820341</td>\n",
       "      <td>2.181506</td>\n",
       "      <td>0.000000</td>\n",
       "      <td>0</td>\n",
       "    </tr>\n",
       "    <tr>\n",
       "      <th>2016-01-01 04:00:00</th>\n",
       "      <td>2.181506</td>\n",
       "      <td>3.103014</td>\n",
       "      <td>0.820341</td>\n",
       "      <td>0</td>\n",
       "    </tr>\n",
       "  </tbody>\n",
       "</table>\n",
       "</div>"
      ],
      "text/plain": [
       "                         diff  lagged_diff  forward_diff  pivot\n",
       "Date                                                           \n",
       "2016-01-01 00:00:00  0.000000     0.000000      0.000000      0\n",
       "2016-01-01 01:00:00  0.000000     0.000000      0.000000      0\n",
       "2016-01-01 02:00:00  0.000000     0.820341      0.000000      0\n",
       "2016-01-01 03:00:00  0.820341     2.181506      0.000000      0\n",
       "2016-01-01 04:00:00  2.181506     3.103014      0.820341      0"
      ]
     },
     "execution_count": 198,
     "metadata": {},
     "output_type": "execute_result"
    }
   ],
   "source": [
    "supports.head()"
   ]
  },
  {
   "cell_type": "code",
   "execution_count": 199,
   "id": "noble-sheep",
   "metadata": {
    "ExecuteTime": {
     "end_time": "2021-02-23T00:17:32.346827Z",
     "start_time": "2021-02-23T00:17:32.341840Z"
    }
   },
   "outputs": [],
   "source": [
    "test['pivot'] = supports['pivot']"
   ]
  },
  {
   "cell_type": "code",
   "execution_count": null,
   "id": "close-jerusalem",
   "metadata": {
    "ExecuteTime": {
     "end_time": "2021-02-15T09:36:49.993991Z",
     "start_time": "2021-02-15T09:36:49.952130Z"
    }
   },
   "outputs": [],
   "source": []
  },
  {
   "cell_type": "code",
   "execution_count": 200,
   "id": "dramatic-mention",
   "metadata": {
    "ExecuteTime": {
     "end_time": "2021-02-23T00:17:33.710787Z",
     "start_time": "2021-02-23T00:17:32.764834Z"
    },
    "scrolled": false
   },
   "outputs": [
    {
     "data": {
      "image/png": "[encoded data removed]",
      "text/plain": [
       "<Figure size 576x576 with 1 Axes>"
      ]
     },
     "metadata": {
      "needs_background": "light"
     },
     "output_type": "display_data"
    }
   ],
   "source": [
    "fig, ax = plt.subplots(figsize=(8,8))\n",
    "test['abs_rtn_avg'].hist(bins=500)\n",
    "plt.xlim(0,0.1)\n",
    "plt.show()"
   ]
  },
  {
   "cell_type": "code",
   "execution_count": 201,
   "id": "tribal-handle",
   "metadata": {
    "ExecuteTime": {
     "end_time": "2021-02-23T00:17:34.265877Z",
     "start_time": "2021-02-23T00:17:33.712782Z"
    },
    "scrolled": false
   },
   "outputs": [
    {
     "data": {
      "image/png": "[encoded data removed]",
      "text/plain": [
       "<Figure size 576x576 with 1 Axes>"
      ]
     },
     "metadata": {
      "needs_background": "light"
     },
     "output_type": "display_data"
    }
   ],
   "source": [
    "fig, ax = plt.subplots(figsize=(8,8))\n",
    "test['Close'].pct_change(periods=1).hist(bins=300)\n",
    "plt.xlim(-0.10,0.10)\n",
    "plt.show()"
   ]
  },
  {
   "cell_type": "code",
   "execution_count": 202,
   "id": "exact-scholar",
   "metadata": {
    "ExecuteTime": {
     "end_time": "2021-02-23T00:17:36.105034Z",
     "start_time": "2021-02-23T00:17:34.268866Z"
    },
    "scrolled": false
   },
   "outputs": [
    {
     "data": {
      "image/png": "[encoded data removed]",
      "text/plain": [
       "<Figure size 1080x720 with 4 Axes>"
      ]
     },
     "metadata": {
      "needs_background": "light"
     },
     "output_type": "display_data"
    }
   ],
   "source": [
    "fig, ax = plt.subplots(nrows=2,ncols=2,figsize=(15,10))\n",
    "test.resample('D').mean()['Close'].pct_change(periods=1).hist(bins=250,ax=ax[0,0])\n",
    "test.resample('D').median()['Close'].pct_change(periods=1).hist(bins=250,ax=ax[0,1])\n",
    "test.resample('D').max()['Close'].pct_change(periods=1).hist(bins=250,ax=ax[1,0])\n",
    "test.resample('D').min()['Close'].pct_change(periods=1).hist(bins=250,ax=ax[1,1])\n",
    "ax[0,0].set_title('Mean hourly return')\n",
    "ax[0,1].set_title('Median hourly return')\n",
    "ax[1,0].set_title('Max hourly return')\n",
    "ax[1,1].set_title('Min hourly return')\n",
    "ax[0,0].set_xlim(-0.10,0.10)\n",
    "ax[0,1].set_xlim(-0.10,0.10)\n",
    "ax[1,0].set_xlim(-0.10,0.10)\n",
    "ax[1,1].set_xlim(-0.10,0.10)\n",
    "plt.show()"
   ]
  },
  {
   "cell_type": "code",
   "execution_count": 203,
   "id": "accepted-interstate",
   "metadata": {
    "ExecuteTime": {
     "end_time": "2021-02-23T00:17:36.157390Z",
     "start_time": "2021-02-23T00:17:36.106033Z"
    }
   },
   "outputs": [
    {
     "ename": "KeyError",
     "evalue": "'avg_7MA'",
     "output_type": "error",
     "traceback": [
      "\u001b[1;31m---------------------------------------------------------------------------\u001b[0m",
      "\u001b[1;31mKeyError\u001b[0m                                  Traceback (most recent call last)",
      "\u001b[1;32m~\\Anaconda3\\lib\\site-packages\\pandas\\core\\indexes\\base.py\u001b[0m in \u001b[0;36mget_loc\u001b[1;34m(self, key, method, tolerance)\u001b[0m\n\u001b[0;32m   3079\u001b[0m             \u001b[1;32mtry\u001b[0m\u001b[1;33m:\u001b[0m\u001b[1;33m\u001b[0m\u001b[1;33m\u001b[0m\u001b[0m\n\u001b[1;32m-> 3080\u001b[1;33m                 \u001b[1;32mreturn\u001b[0m \u001b[0mself\u001b[0m\u001b[1;33m.\u001b[0m\u001b[0m_engine\u001b[0m\u001b[1;33m.\u001b[0m\u001b[0mget_loc\u001b[0m\u001b[1;33m(\u001b[0m\u001b[0mcasted_key\u001b[0m\u001b[1;33m)\u001b[0m\u001b[1;33m\u001b[0m\u001b[1;33m\u001b[0m\u001b[0m\n\u001b[0m\u001b[0;32m   3081\u001b[0m             \u001b[1;32mexcept\u001b[0m \u001b[0mKeyError\u001b[0m \u001b[1;32mas\u001b[0m \u001b[0merr\u001b[0m\u001b[1;33m:\u001b[0m\u001b[1;33m\u001b[0m\u001b[1;33m\u001b[0m\u001b[0m\n",
      "\u001b[1;32mpandas\\_libs\\index.pyx\u001b[0m in \u001b[0;36mpandas._libs.index.IndexEngine.get_loc\u001b[1;34m()\u001b[0m\n",
      "\u001b[1;32mpandas\\_libs\\index.pyx\u001b[0m in \u001b[0;36mpandas._libs.index.IndexEngine.get_loc\u001b[1;34m()\u001b[0m\n",
      "\u001b[1;32mpandas\\_libs\\hashtable_class_helper.pxi\u001b[0m in \u001b[0;36mpandas._libs.hashtable.PyObjectHashTable.get_item\u001b[1;34m()\u001b[0m\n",
      "\u001b[1;32mpandas\\_libs\\hashtable_class_helper.pxi\u001b[0m in \u001b[0;36mpandas._libs.hashtable.PyObjectHashTable.get_item\u001b[1;34m()\u001b[0m\n",
      "\u001b[1;31mKeyError\u001b[0m: 'avg_7MA'",
      "\nThe above exception was the direct cause of the following exception:\n",
      "\u001b[1;31mKeyError\u001b[0m                                  Traceback (most recent call last)",
      "\u001b[1;32m<ipython-input-203-265949e25b02>\u001b[0m in \u001b[0;36m<module>\u001b[1;34m\u001b[0m\n\u001b[0;32m      1\u001b[0m \u001b[0mtrace0\u001b[0m \u001b[1;33m=\u001b[0m \u001b[0mgo\u001b[0m\u001b[1;33m.\u001b[0m\u001b[0mScatter\u001b[0m\u001b[1;33m(\u001b[0m\u001b[0mx\u001b[0m\u001b[1;33m=\u001b[0m\u001b[0mtest\u001b[0m\u001b[1;33m.\u001b[0m\u001b[0mindex\u001b[0m\u001b[1;33m,\u001b[0m \u001b[0my\u001b[0m\u001b[1;33m=\u001b[0m\u001b[0mtest\u001b[0m\u001b[1;33m[\u001b[0m\u001b[1;34m'avg'\u001b[0m\u001b[1;33m]\u001b[0m\u001b[1;33m,\u001b[0m \u001b[0mname\u001b[0m\u001b[1;33m=\u001b[0m\u001b[1;34m'avg'\u001b[0m\u001b[1;33m,\u001b[0m \u001b[0mline\u001b[0m\u001b[1;33m=\u001b[0m\u001b[0mdict\u001b[0m\u001b[1;33m(\u001b[0m\u001b[0mcolor\u001b[0m\u001b[1;33m=\u001b[0m\u001b[1;34m'lime'\u001b[0m\u001b[1;33m)\u001b[0m\u001b[1;33m)\u001b[0m\u001b[1;33m\u001b[0m\u001b[1;33m\u001b[0m\u001b[0m\n\u001b[1;32m----> 2\u001b[1;33m \u001b[0mtrace1\u001b[0m \u001b[1;33m=\u001b[0m \u001b[0mgo\u001b[0m\u001b[1;33m.\u001b[0m\u001b[0mScatter\u001b[0m\u001b[1;33m(\u001b[0m\u001b[0mx\u001b[0m\u001b[1;33m=\u001b[0m\u001b[0mtest\u001b[0m\u001b[1;33m.\u001b[0m\u001b[0mindex\u001b[0m\u001b[1;33m,\u001b[0m \u001b[0my\u001b[0m\u001b[1;33m=\u001b[0m\u001b[0mtest\u001b[0m\u001b[1;33m[\u001b[0m\u001b[1;34m'avg_7MA'\u001b[0m\u001b[1;33m]\u001b[0m\u001b[1;33m,\u001b[0m \u001b[0mname\u001b[0m\u001b[1;33m=\u001b[0m\u001b[1;34m'60MA'\u001b[0m\u001b[1;33m,\u001b[0m \u001b[0mline\u001b[0m\u001b[1;33m=\u001b[0m\u001b[0mdict\u001b[0m\u001b[1;33m(\u001b[0m\u001b[0mcolor\u001b[0m\u001b[1;33m=\u001b[0m\u001b[1;34m'grey'\u001b[0m\u001b[1;33m)\u001b[0m\u001b[1;33m)\u001b[0m\u001b[1;33m\u001b[0m\u001b[1;33m\u001b[0m\u001b[0m\n\u001b[0m\u001b[0;32m      3\u001b[0m \u001b[1;31m#trace2 = go.Scatter(x=test.index, y=test['avg'].rolling(window=96).mean(), name='96MA', line=dict(color='red'))\u001b[0m\u001b[1;33m\u001b[0m\u001b[1;33m\u001b[0m\u001b[1;33m\u001b[0m\u001b[0m\n\u001b[0;32m      4\u001b[0m \u001b[1;31m#trace3 = go.Scatter(x=test.index, y=test['BolUpavg_96MA'],\u001b[0m\u001b[1;33m\u001b[0m\u001b[1;33m\u001b[0m\u001b[1;33m\u001b[0m\u001b[0m\n\u001b[0;32m      5\u001b[0m \u001b[1;31m#                    name='Bup', line=dict(color='blue'),marker=dict(size = 15, color = 'blue', symbol = 'cross'))\u001b[0m\u001b[1;33m\u001b[0m\u001b[1;33m\u001b[0m\u001b[1;33m\u001b[0m\u001b[0m\n",
      "\u001b[1;32m~\\Anaconda3\\lib\\site-packages\\pandas\\core\\frame.py\u001b[0m in \u001b[0;36m__getitem__\u001b[1;34m(self, key)\u001b[0m\n\u001b[0;32m   3022\u001b[0m             \u001b[1;32mif\u001b[0m \u001b[0mself\u001b[0m\u001b[1;33m.\u001b[0m\u001b[0mcolumns\u001b[0m\u001b[1;33m.\u001b[0m\u001b[0mnlevels\u001b[0m \u001b[1;33m>\u001b[0m \u001b[1;36m1\u001b[0m\u001b[1;33m:\u001b[0m\u001b[1;33m\u001b[0m\u001b[1;33m\u001b[0m\u001b[0m\n\u001b[0;32m   3023\u001b[0m                 \u001b[1;32mreturn\u001b[0m \u001b[0mself\u001b[0m\u001b[1;33m.\u001b[0m\u001b[0m_getitem_multilevel\u001b[0m\u001b[1;33m(\u001b[0m\u001b[0mkey\u001b[0m\u001b[1;33m)\u001b[0m\u001b[1;33m\u001b[0m\u001b[1;33m\u001b[0m\u001b[0m\n\u001b[1;32m-> 3024\u001b[1;33m             \u001b[0mindexer\u001b[0m \u001b[1;33m=\u001b[0m \u001b[0mself\u001b[0m\u001b[1;33m.\u001b[0m\u001b[0mcolumns\u001b[0m\u001b[1;33m.\u001b[0m\u001b[0mget_loc\u001b[0m\u001b[1;33m(\u001b[0m\u001b[0mkey\u001b[0m\u001b[1;33m)\u001b[0m\u001b[1;33m\u001b[0m\u001b[1;33m\u001b[0m\u001b[0m\n\u001b[0m\u001b[0;32m   3025\u001b[0m             \u001b[1;32mif\u001b[0m \u001b[0mis_integer\u001b[0m\u001b[1;33m(\u001b[0m\u001b[0mindexer\u001b[0m\u001b[1;33m)\u001b[0m\u001b[1;33m:\u001b[0m\u001b[1;33m\u001b[0m\u001b[1;33m\u001b[0m\u001b[0m\n\u001b[0;32m   3026\u001b[0m                 \u001b[0mindexer\u001b[0m \u001b[1;33m=\u001b[0m \u001b[1;33m[\u001b[0m\u001b[0mindexer\u001b[0m\u001b[1;33m]\u001b[0m\u001b[1;33m\u001b[0m\u001b[1;33m\u001b[0m\u001b[0m\n",
      "\u001b[1;32m~\\Anaconda3\\lib\\site-packages\\pandas\\core\\indexes\\base.py\u001b[0m in \u001b[0;36mget_loc\u001b[1;34m(self, key, method, tolerance)\u001b[0m\n\u001b[0;32m   3080\u001b[0m                 \u001b[1;32mreturn\u001b[0m \u001b[0mself\u001b[0m\u001b[1;33m.\u001b[0m\u001b[0m_engine\u001b[0m\u001b[1;33m.\u001b[0m\u001b[0mget_loc\u001b[0m\u001b[1;33m(\u001b[0m\u001b[0mcasted_key\u001b[0m\u001b[1;33m)\u001b[0m\u001b[1;33m\u001b[0m\u001b[1;33m\u001b[0m\u001b[0m\n\u001b[0;32m   3081\u001b[0m             \u001b[1;32mexcept\u001b[0m \u001b[0mKeyError\u001b[0m \u001b[1;32mas\u001b[0m \u001b[0merr\u001b[0m\u001b[1;33m:\u001b[0m\u001b[1;33m\u001b[0m\u001b[1;33m\u001b[0m\u001b[0m\n\u001b[1;32m-> 3082\u001b[1;33m                 \u001b[1;32mraise\u001b[0m \u001b[0mKeyError\u001b[0m\u001b[1;33m(\u001b[0m\u001b[0mkey\u001b[0m\u001b[1;33m)\u001b[0m \u001b[1;32mfrom\u001b[0m \u001b[0merr\u001b[0m\u001b[1;33m\u001b[0m\u001b[1;33m\u001b[0m\u001b[0m\n\u001b[0m\u001b[0;32m   3083\u001b[0m \u001b[1;33m\u001b[0m\u001b[0m\n\u001b[0;32m   3084\u001b[0m         \u001b[1;32mif\u001b[0m \u001b[0mtolerance\u001b[0m \u001b[1;32mis\u001b[0m \u001b[1;32mnot\u001b[0m \u001b[1;32mNone\u001b[0m\u001b[1;33m:\u001b[0m\u001b[1;33m\u001b[0m\u001b[1;33m\u001b[0m\u001b[0m\n",
      "\u001b[1;31mKeyError\u001b[0m: 'avg_7MA'"
     ]
    }
   ],
   "source": [
    "trace0 = go.Scatter(x=test.index, y=test['avg'], name='avg', line=dict(color='lime'))\n",
    "trace1 = go.Scatter(x=test.index, y=test['avg_7MA'], name='60MA', line=dict(color='grey'))\n",
    "#trace2 = go.Scatter(x=test.index, y=test['avg'].rolling(window=96).mean(), name='96MA', line=dict(color='red'))\n",
    "#trace3 = go.Scatter(x=test.index, y=test['BolUpavg_96MA'], \n",
    "#                    name='Bup', line=dict(color='blue'),marker=dict(size = 15, color = 'blue', symbol = 'cross'))\n",
    "#trace4 = go.Scatter(x=test.index, y=test['BolDnavg_96MA'], \n",
    "#                    name='Bdn', line=dict(color='blue'),marker=dict(size = 15, color = 'blue', symbol = 'cross'))\n",
    "\n",
    "#trace4 = go.Scatter(x=test.index, y=test['pivot'], \n",
    "#                    name='Bdn', line=dict(color='blue'),marker=dict(size = 15, color = 'blue', symbol = 'cross'))\n",
    "\n",
    "#data = [trace0, trace1, trace2,trace3, trace4]\n",
    "data = [trace0, trace1]\n",
    "layout = dict(\n",
    "            title='ETH',\n",
    "              xaxis = dict(\n",
    "        range = [min(test.index),max(test.index)]\n",
    "              )\n",
    "             )\n",
    "\n",
    "fig = dict(data=data, layout=layout)\n",
    "py.iplot(fig)"
   ]
  },
  {
   "cell_type": "code",
   "execution_count": 206,
   "id": "opposed-honey",
   "metadata": {
    "ExecuteTime": {
     "end_time": "2021-02-23T00:17:43.104704Z",
     "start_time": "2021-02-23T00:17:43.098404Z"
    }
   },
   "outputs": [],
   "source": [
    "#Create my target variable: \n",
    "# return for the next 30min (15min data),\n",
    "# return for the next 4h (hourly data), \n",
    "# return the next 2d (daily data),\n",
    "# Then make a column that says if the return is positive or negative (flat return included) .\n",
    "test['Return_4h'] = test['Close'].ewm(span=1).mean().pct_change(4).shift(-5)"
   ]
  },
  {
   "cell_type": "code",
   "execution_count": 207,
   "id": "organizational-inside",
   "metadata": {
    "ExecuteTime": {
     "end_time": "2021-02-23T00:17:43.955291Z",
     "start_time": "2021-02-23T00:17:43.924313Z"
    }
   },
   "outputs": [
    {
     "data": {
      "text/html": [
       "<div>\n",
       "<style scoped>\n",
       "    .dataframe tbody tr th:only-of-type {\n",
       "        vertical-align: middle;\n",
       "    }\n",
       "\n",
       "    .dataframe tbody tr th {\n",
       "        vertical-align: top;\n",
       "    }\n",
       "\n",
       "    .dataframe thead th {\n",
       "        text-align: right;\n",
       "    }\n",
       "</style>\n",
       "<table border=\"1\" class=\"dataframe\">\n",
       "  <thead>\n",
       "    <tr style=\"text-align: right;\">\n",
       "      <th></th>\n",
       "      <th>Close</th>\n",
       "      <th>Return_4h</th>\n",
       "    </tr>\n",
       "    <tr>\n",
       "      <th>Date</th>\n",
       "      <th></th>\n",
       "      <th></th>\n",
       "    </tr>\n",
       "  </thead>\n",
       "  <tbody>\n",
       "    <tr>\n",
       "      <th>2016-01-01 00:00:00</th>\n",
       "      <td>430.61</td>\n",
       "      <td>0.012094</td>\n",
       "    </tr>\n",
       "    <tr>\n",
       "      <th>2016-01-01 01:00:00</th>\n",
       "      <td>430.78</td>\n",
       "      <td>0.008453</td>\n",
       "    </tr>\n",
       "    <tr>\n",
       "      <th>2016-01-01 02:00:00</th>\n",
       "      <td>430.62</td>\n",
       "      <td>0.003881</td>\n",
       "    </tr>\n",
       "    <tr>\n",
       "      <th>2016-01-01 03:00:00</th>\n",
       "      <td>432.84</td>\n",
       "      <td>-0.005870</td>\n",
       "    </tr>\n",
       "    <tr>\n",
       "      <th>2016-01-01 04:00:00</th>\n",
       "      <td>436.12</td>\n",
       "      <td>-0.006835</td>\n",
       "    </tr>\n",
       "  </tbody>\n",
       "</table>\n",
       "</div>"
      ],
      "text/plain": [
       "                      Close  Return_4h\n",
       "Date                                  \n",
       "2016-01-01 00:00:00  430.61   0.012094\n",
       "2016-01-01 01:00:00  430.78   0.008453\n",
       "2016-01-01 02:00:00  430.62   0.003881\n",
       "2016-01-01 03:00:00  432.84  -0.005870\n",
       "2016-01-01 04:00:00  436.12  -0.006835"
      ]
     },
     "execution_count": 207,
     "metadata": {},
     "output_type": "execute_result"
    }
   ],
   "source": [
    "test[['Close','Return_4h']].head()"
   ]
  },
  {
   "cell_type": "code",
   "execution_count": 208,
   "id": "likely-toyota",
   "metadata": {
    "ExecuteTime": {
     "end_time": "2021-02-23T00:17:44.178272Z",
     "start_time": "2021-02-23T00:17:44.169294Z"
    }
   },
   "outputs": [
    {
     "data": {
      "text/plain": [
       "count    44420.000000\n",
       "mean         0.000523\n",
       "std          0.016383\n",
       "min         -0.274947\n",
       "25%         -0.004416\n",
       "50%          0.000421\n",
       "75%          0.005630\n",
       "max          0.271890\n",
       "Name: Return_4h, dtype: float64"
      ]
     },
     "execution_count": 208,
     "metadata": {},
     "output_type": "execute_result"
    }
   ],
   "source": [
    "test['Return_4h'].describe()"
   ]
  },
  {
   "cell_type": "code",
   "execution_count": 209,
   "id": "headed-client",
   "metadata": {
    "ExecuteTime": {
     "end_time": "2021-02-23T00:17:45.097984Z",
     "start_time": "2021-02-23T00:17:44.363390Z"
    },
    "scrolled": false
   },
   "outputs": [
    {
     "data": {
      "image/png": "[encoded data removed]",
      "text/plain": [
       "<Figure size 576x576 with 1 Axes>"
      ]
     },
     "metadata": {
      "needs_background": "light"
     },
     "output_type": "display_data"
    }
   ],
   "source": [
    "fig, ax = plt.subplots(figsize=(8,8))\n",
    "test['Return_4h'].hist(bins=500)\n",
    "plt.xlim(-0.1003,0.1003)\n",
    "plt.show()"
   ]
  },
  {
   "cell_type": "code",
   "execution_count": 210,
   "id": "fifteen-ladder",
   "metadata": {
    "ExecuteTime": {
     "end_time": "2021-02-23T00:17:45.106934Z",
     "start_time": "2021-02-23T00:17:45.098956Z"
    },
    "scrolled": true
   },
   "outputs": [
    {
     "data": {
      "text/plain": [
       "Date\n",
       "2016-01-06 16:00:00    0.0\n",
       "2016-01-07 17:00:00    0.0\n",
       "2016-01-30 09:00:00    0.0\n",
       "2016-02-28 15:00:00    0.0\n",
       "2016-03-11 08:00:00    0.0\n",
       "2016-03-14 06:00:00    0.0\n",
       "2016-03-16 09:00:00    0.0\n",
       "2016-04-01 06:00:00    0.0\n",
       "2016-04-26 00:00:00    0.0\n",
       "2016-05-23 02:00:00    0.0\n",
       "2016-07-16 18:00:00    0.0\n",
       "2016-07-24 04:00:00    0.0\n",
       "2016-08-13 08:00:00    0.0\n",
       "2016-08-21 20:00:00    0.0\n",
       "2016-09-06 20:00:00    0.0\n",
       "2016-09-09 11:00:00    0.0\n",
       "2016-09-12 03:00:00    0.0\n",
       "2016-09-22 06:00:00    0.0\n",
       "2016-09-28 10:00:00    0.0\n",
       "2016-09-29 05:00:00    0.0\n",
       "2016-10-09 05:00:00    0.0\n",
       "2016-11-12 16:00:00    0.0\n",
       "2016-11-28 11:00:00    0.0\n",
       "2016-12-02 11:00:00    0.0\n",
       "2017-01-28 07:00:00    0.0\n",
       "2017-01-30 09:00:00    0.0\n",
       "2017-02-11 11:00:00    0.0\n",
       "2017-02-19 19:00:00    0.0\n",
       "2017-02-28 18:00:00    0.0\n",
       "2017-02-28 19:00:00    0.0\n",
       "2017-04-16 17:00:00    0.0\n",
       "2017-04-20 10:00:00    0.0\n",
       "2017-07-24 16:00:00    0.0\n",
       "2017-08-13 13:00:00    0.0\n",
       "2018-05-02 07:00:00    0.0\n",
       "2018-07-31 13:00:00    0.0\n",
       "2018-08-10 00:00:00    0.0\n",
       "2018-08-10 01:00:00    0.0\n",
       "2018-08-10 02:00:00    0.0\n",
       "2018-08-10 03:00:00    0.0\n",
       "2018-08-10 04:00:00    0.0\n",
       "2018-08-10 05:00:00    0.0\n",
       "2018-08-10 06:00:00    0.0\n",
       "2018-08-10 07:00:00    0.0\n",
       "2018-08-10 08:00:00    0.0\n",
       "2018-08-10 09:00:00    0.0\n",
       "2018-08-10 10:00:00    0.0\n",
       "2018-08-10 11:00:00    0.0\n",
       "2018-10-13 11:00:00    0.0\n",
       "2018-10-17 21:00:00    0.0\n",
       "2018-10-28 10:00:00    0.0\n",
       "2018-11-07 15:00:00    0.0\n",
       "2019-01-06 04:00:00    0.0\n",
       "2019-03-10 10:00:00    0.0\n",
       "2019-03-31 19:00:00    0.0\n",
       "2020-07-09 07:00:00    0.0\n",
       "Name: Return_4h, dtype: float64"
      ]
     },
     "execution_count": 210,
     "metadata": {},
     "output_type": "execute_result"
    }
   ],
   "source": [
    "test[test['Return_4h'] == 0.000000].loc[:,'Return_4h']"
   ]
  },
  {
   "cell_type": "code",
   "execution_count": 211,
   "id": "limiting-rebate",
   "metadata": {
    "ExecuteTime": {
     "end_time": "2021-02-23T00:17:45.134858Z",
     "start_time": "2021-02-23T00:17:45.108928Z"
    }
   },
   "outputs": [],
   "source": [
    "test['BuyorSell'] = [-1 if x <= 0 else 1 for x in test['Return_4h']]"
   ]
  },
  {
   "cell_type": "code",
   "execution_count": null,
   "id": "minute-polyester",
   "metadata": {
    "ExecuteTime": {
     "end_time": "2021-02-14T23:21:19.939532Z",
     "start_time": "2021-02-14T23:21:19.934547Z"
    }
   },
   "outputs": [],
   "source": []
  },
  {
   "cell_type": "code",
   "execution_count": 212,
   "id": "victorian-projection",
   "metadata": {
    "ExecuteTime": {
     "end_time": "2021-02-23T00:17:45.144832Z",
     "start_time": "2021-02-23T00:17:45.135856Z"
    },
    "scrolled": true
   },
   "outputs": [
    {
     "data": {
      "text/plain": [
       " 1    0.529229\n",
       "-1    0.470771\n",
       "Name: BuyorSell, dtype: float64"
      ]
     },
     "execution_count": 212,
     "metadata": {},
     "output_type": "execute_result"
    }
   ],
   "source": [
    "# I am including the flat return to the positive return target variable in the model notebook.\n",
    "test['BuyorSell'].value_counts(normalize=True)"
   ]
  },
  {
   "cell_type": "code",
   "execution_count": 213,
   "id": "healthy-directive",
   "metadata": {
    "ExecuteTime": {
     "end_time": "2021-02-23T00:17:48.512168Z",
     "start_time": "2021-02-23T00:17:45.146828Z"
    }
   },
   "outputs": [],
   "source": [
    "#Saving the finale data\n",
    "test.to_csv('data-btc-hourly.csv')"
   ]
  },
  {
   "cell_type": "code",
   "execution_count": null,
   "id": "hungry-sleeping",
   "metadata": {},
   "outputs": [],
   "source": []
  },
  {
   "cell_type": "code",
   "execution_count": null,
   "id": "christian-appraisal",
   "metadata": {},
   "outputs": [],
   "source": []
  },
  {
   "cell_type": "code",
   "execution_count": null,
   "id": "disciplinary-petersburg",
   "metadata": {},
   "outputs": [],
   "source": []
  },
  {
   "cell_type": "code",
   "execution_count": null,
   "id": "literary-peoples",
   "metadata": {},
   "outputs": [],
   "source": []
  },
  {
   "cell_type": "code",
   "execution_count": null,
   "id": "enhanced-youth",
   "metadata": {},
   "outputs": [],
   "source": []
  },
  {
   "cell_type": "code",
   "execution_count": null,
   "id": "cooperative-gross",
   "metadata": {},
   "outputs": [],
   "source": []
  },
  {
   "cell_type": "code",
   "execution_count": null,
   "id": "capable-teaching",
   "metadata": {},
   "outputs": [],
   "source": []
  },
  {
   "cell_type": "code",
   "execution_count": null,
   "id": "silent-anthropology",
   "metadata": {},
   "outputs": [],
   "source": []
  }
 ],
 "metadata": {
  "kernelspec": {
   "display_name": "Python 3",
   "language": "python",
   "name": "python3"
  },
  "language_info": {
   "codemirror_mode": {
    "name": "ipython",
    "version": 3
   },
   "file_extension": ".py",
   "mimetype": "text/x-python",
   "name": "python",
   "nbconvert_exporter": "python",
   "pygments_lexer": "ipython3",
   "version": "3.7.9"
  }
 },
 "nbformat": 4,
 "nbformat_minor": 5
}
